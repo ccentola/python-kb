{
 "cells": [
  {
   "cell_type": "markdown",
   "metadata": {},
   "source": [
    "# Dates and Times"
   ]
  },
  {
   "cell_type": "code",
   "execution_count": 2,
   "metadata": {},
   "outputs": [],
   "source": [
    "import pandas as pd\n",
    "import datetime as dt"
   ]
  },
  {
   "cell_type": "markdown",
   "metadata": {},
   "source": [
    "## Python's datetime Module"
   ]
  },
  {
   "cell_type": "code",
   "execution_count": 4,
   "metadata": {},
   "outputs": [],
   "source": [
    "someday = dt.date(1989,6,27)"
   ]
  },
  {
   "cell_type": "code",
   "execution_count": 5,
   "metadata": {},
   "outputs": [
    {
     "data": {
      "text/plain": [
       "1989"
      ]
     },
     "execution_count": 5,
     "metadata": {},
     "output_type": "execute_result"
    }
   ],
   "source": [
    "someday.year"
   ]
  },
  {
   "cell_type": "code",
   "execution_count": 6,
   "metadata": {},
   "outputs": [
    {
     "data": {
      "text/plain": [
       "6"
      ]
     },
     "execution_count": 6,
     "metadata": {},
     "output_type": "execute_result"
    }
   ],
   "source": [
    "someday.month"
   ]
  },
  {
   "cell_type": "code",
   "execution_count": 7,
   "metadata": {},
   "outputs": [
    {
     "data": {
      "text/plain": [
       "27"
      ]
     },
     "execution_count": 7,
     "metadata": {},
     "output_type": "execute_result"
    }
   ],
   "source": [
    "someday.day"
   ]
  },
  {
   "cell_type": "code",
   "execution_count": 8,
   "metadata": {},
   "outputs": [
    {
     "data": {
      "text/plain": [
       "datetime.datetime(2010, 1, 20, 0, 0)"
      ]
     },
     "execution_count": 8,
     "metadata": {},
     "output_type": "execute_result"
    }
   ],
   "source": [
    "# datetime takes a date and time\n",
    "dt.datetime(2010,1,20)"
   ]
  },
  {
   "cell_type": "code",
   "execution_count": 13,
   "metadata": {},
   "outputs": [],
   "source": [
    "sometime = dt.datetime(2010,1,20,8,13,57)"
   ]
  },
  {
   "cell_type": "code",
   "execution_count": 10,
   "metadata": {},
   "outputs": [
    {
     "data": {
      "text/plain": [
       "'2010-01-20 08:13:57'"
      ]
     },
     "execution_count": 10,
     "metadata": {},
     "output_type": "execute_result"
    }
   ],
   "source": [
    "str(dt.datetime(2010,1,20,8,13,57))"
   ]
  },
  {
   "cell_type": "code",
   "execution_count": 12,
   "metadata": {},
   "outputs": [
    {
     "data": {
      "text/plain": [
       "'1989-06-27'"
      ]
     },
     "execution_count": 12,
     "metadata": {},
     "output_type": "execute_result"
    }
   ],
   "source": [
    "str(dt.date(1989,6,27))"
   ]
  },
  {
   "cell_type": "code",
   "execution_count": 14,
   "metadata": {},
   "outputs": [
    {
     "data": {
      "text/plain": [
       "2010"
      ]
     },
     "execution_count": 14,
     "metadata": {},
     "output_type": "execute_result"
    }
   ],
   "source": [
    "sometime.year"
   ]
  },
  {
   "cell_type": "code",
   "execution_count": 15,
   "metadata": {},
   "outputs": [
    {
     "data": {
      "text/plain": [
       "1"
      ]
     },
     "execution_count": 15,
     "metadata": {},
     "output_type": "execute_result"
    }
   ],
   "source": [
    "sometime.month"
   ]
  },
  {
   "cell_type": "code",
   "execution_count": 16,
   "metadata": {},
   "outputs": [
    {
     "data": {
      "text/plain": [
       "20"
      ]
     },
     "execution_count": 16,
     "metadata": {},
     "output_type": "execute_result"
    }
   ],
   "source": [
    "sometime.day"
   ]
  },
  {
   "cell_type": "code",
   "execution_count": 17,
   "metadata": {},
   "outputs": [
    {
     "data": {
      "text/plain": [
       "8"
      ]
     },
     "execution_count": 17,
     "metadata": {},
     "output_type": "execute_result"
    }
   ],
   "source": [
    "sometime.hour"
   ]
  },
  {
   "cell_type": "code",
   "execution_count": 18,
   "metadata": {},
   "outputs": [
    {
     "data": {
      "text/plain": [
       "13"
      ]
     },
     "execution_count": 18,
     "metadata": {},
     "output_type": "execute_result"
    }
   ],
   "source": [
    "sometime.minute"
   ]
  },
  {
   "cell_type": "code",
   "execution_count": 19,
   "metadata": {},
   "outputs": [
    {
     "data": {
      "text/plain": [
       "57"
      ]
     },
     "execution_count": 19,
     "metadata": {},
     "output_type": "execute_result"
    }
   ],
   "source": [
    "sometime.second"
   ]
  },
  {
   "cell_type": "markdown",
   "metadata": {},
   "source": [
    "## The pandas Timestamp Object"
   ]
  },
  {
   "cell_type": "code",
   "execution_count": 20,
   "metadata": {},
   "outputs": [
    {
     "data": {
      "text/plain": [
       "Timestamp('2015-03-31 00:00:00')"
      ]
     },
     "execution_count": 20,
     "metadata": {},
     "output_type": "execute_result"
    }
   ],
   "source": [
    "pd.Timestamp('2015-03-31')"
   ]
  },
  {
   "cell_type": "code",
   "execution_count": 21,
   "metadata": {},
   "outputs": [
    {
     "data": {
      "text/plain": [
       "Timestamp('2015-03-31 00:00:00')"
      ]
     },
     "execution_count": 21,
     "metadata": {},
     "output_type": "execute_result"
    }
   ],
   "source": [
    "pd.Timestamp('2015/03/31')"
   ]
  },
  {
   "cell_type": "code",
   "execution_count": 24,
   "metadata": {},
   "outputs": [
    {
     "data": {
      "text/plain": [
       "Timestamp('2013-11-03 00:00:00')"
      ]
     },
     "execution_count": 24,
     "metadata": {},
     "output_type": "execute_result"
    }
   ],
   "source": [
    "pd.Timestamp('2013, 11, 03')"
   ]
  },
  {
   "cell_type": "code",
   "execution_count": 25,
   "metadata": {},
   "outputs": [
    {
     "data": {
      "text/plain": [
       "Timestamp('2015-01-01 00:00:00')"
      ]
     },
     "execution_count": 25,
     "metadata": {},
     "output_type": "execute_result"
    }
   ],
   "source": [
    "pd.Timestamp('1/1/2015')"
   ]
  },
  {
   "cell_type": "code",
   "execution_count": 26,
   "metadata": {},
   "outputs": [
    {
     "data": {
      "text/plain": [
       "Timestamp('2015-12-19 00:00:00')"
      ]
     },
     "execution_count": 26,
     "metadata": {},
     "output_type": "execute_result"
    }
   ],
   "source": [
    "pd.Timestamp('19/12/2015')"
   ]
  },
  {
   "cell_type": "code",
   "execution_count": 27,
   "metadata": {},
   "outputs": [
    {
     "data": {
      "text/plain": [
       "Timestamp('2000-04-03 00:00:00')"
      ]
     },
     "execution_count": 27,
     "metadata": {},
     "output_type": "execute_result"
    }
   ],
   "source": [
    "pd.Timestamp('4/3/2000')"
   ]
  },
  {
   "cell_type": "code",
   "execution_count": 28,
   "metadata": {},
   "outputs": [
    {
     "data": {
      "text/plain": [
       "Timestamp('2021-03-08 08:35:15')"
      ]
     },
     "execution_count": 28,
     "metadata": {},
     "output_type": "execute_result"
    }
   ],
   "source": [
    "pd.Timestamp('2021-03-08 8:35:15')"
   ]
  },
  {
   "cell_type": "code",
   "execution_count": 29,
   "metadata": {},
   "outputs": [
    {
     "data": {
      "text/plain": [
       "Timestamp('2021-03-08 18:13:15')"
      ]
     },
     "execution_count": 29,
     "metadata": {},
     "output_type": "execute_result"
    }
   ],
   "source": [
    "pd.Timestamp('2021-03-08 6:13:15 PM')"
   ]
  },
  {
   "cell_type": "code",
   "execution_count": 30,
   "metadata": {},
   "outputs": [
    {
     "data": {
      "text/plain": [
       "Timestamp('2015-01-15 00:00:00')"
      ]
     },
     "execution_count": 30,
     "metadata": {},
     "output_type": "execute_result"
    }
   ],
   "source": [
    "pd.Timestamp(dt.date(2015,1,15))"
   ]
  },
  {
   "cell_type": "code",
   "execution_count": 32,
   "metadata": {},
   "outputs": [
    {
     "data": {
      "text/plain": [
       "Timestamp('2015-01-15 21:35:22')"
      ]
     },
     "execution_count": 32,
     "metadata": {},
     "output_type": "execute_result"
    }
   ],
   "source": [
    "pd.Timestamp(dt.datetime(2015,1,15,21,35,22))"
   ]
  },
  {
   "cell_type": "markdown",
   "metadata": {},
   "source": [
    "## The pandas DatetimeIndex Object"
   ]
  },
  {
   "cell_type": "code",
   "execution_count": 34,
   "metadata": {},
   "outputs": [
    {
     "data": {
      "text/plain": [
       "DatetimeIndex(['2016-03-12', '1989-06-27', '2009-07-07'], dtype='datetime64[ns]', freq=None)"
      ]
     },
     "execution_count": 34,
     "metadata": {},
     "output_type": "execute_result"
    }
   ],
   "source": [
    "dates = ['2016-03-12','1989-06-27','2009-07-07']\n",
    "pd.DatetimeIndex(dates)"
   ]
  },
  {
   "cell_type": "code",
   "execution_count": 35,
   "metadata": {},
   "outputs": [
    {
     "data": {
      "text/plain": [
       "pandas.core.indexes.datetimes.DatetimeIndex"
      ]
     },
     "execution_count": 35,
     "metadata": {},
     "output_type": "execute_result"
    }
   ],
   "source": [
    "type(pd.DatetimeIndex(dates))"
   ]
  },
  {
   "cell_type": "code",
   "execution_count": 38,
   "metadata": {},
   "outputs": [],
   "source": [
    "dates = [dt.date(2016,1,31),dt.date(2016,4,21),dt.date(2013,2,12)]\n",
    "dt_index = pd.DatetimeIndex(dates)"
   ]
  },
  {
   "cell_type": "code",
   "execution_count": 39,
   "metadata": {},
   "outputs": [
    {
     "data": {
      "text/plain": [
       "2016-01-31    100\n",
       "2016-04-21    200\n",
       "2013-02-12    300\n",
       "dtype: int64"
      ]
     },
     "execution_count": 39,
     "metadata": {},
     "output_type": "execute_result"
    }
   ],
   "source": [
    "values = [100,200,300]\n",
    "pd.Series(data=values,index=dt_index)"
   ]
  },
  {
   "cell_type": "markdown",
   "metadata": {},
   "source": [
    "## The pd.to_datetime() Method"
   ]
  },
  {
   "cell_type": "code",
   "execution_count": 40,
   "metadata": {},
   "outputs": [
    {
     "data": {
      "text/plain": [
       "Timestamp('2001-04-19 00:00:00')"
      ]
     },
     "execution_count": 40,
     "metadata": {},
     "output_type": "execute_result"
    }
   ],
   "source": [
    "pd.to_datetime('2001-04-19')"
   ]
  },
  {
   "cell_type": "code",
   "execution_count": 41,
   "metadata": {},
   "outputs": [
    {
     "data": {
      "text/plain": [
       "Timestamp('2001-04-19 00:00:00')"
      ]
     },
     "execution_count": 41,
     "metadata": {},
     "output_type": "execute_result"
    }
   ],
   "source": [
    "pd.to_datetime(dt.date(2001,4,19))"
   ]
  },
  {
   "cell_type": "code",
   "execution_count": 42,
   "metadata": {},
   "outputs": [
    {
     "data": {
      "text/plain": [
       "DatetimeIndex(['2015-01-03', '2014-02-08', '2016-01-01', '1996-07-04'], dtype='datetime64[ns]', freq=None)"
      ]
     },
     "execution_count": 42,
     "metadata": {},
     "output_type": "execute_result"
    }
   ],
   "source": [
    "pd.to_datetime(['2015-01-03','2014/02/08','2016','July 4th, 1996'])"
   ]
  },
  {
   "cell_type": "code",
   "execution_count": 43,
   "metadata": {},
   "outputs": [
    {
     "data": {
      "text/plain": [
       "0        2015-01-03\n",
       "1        2014/02/08\n",
       "2              2016\n",
       "3    July 4th, 1996\n",
       "dtype: object"
      ]
     },
     "execution_count": 43,
     "metadata": {},
     "output_type": "execute_result"
    }
   ],
   "source": [
    "times = pd.Series(['2015-01-03','2014/02/08','2016','July 4th, 1996'])\n",
    "times"
   ]
  },
  {
   "cell_type": "code",
   "execution_count": 44,
   "metadata": {},
   "outputs": [
    {
     "data": {
      "text/plain": [
       "0   2015-01-03\n",
       "1   2014-02-08\n",
       "2   2016-01-01\n",
       "3   1996-07-04\n",
       "dtype: datetime64[ns]"
      ]
     },
     "execution_count": 44,
     "metadata": {},
     "output_type": "execute_result"
    }
   ],
   "source": [
    "pd.to_datetime(times)"
   ]
  },
  {
   "cell_type": "code",
   "execution_count": 46,
   "metadata": {},
   "outputs": [
    {
     "data": {
      "text/plain": [
       "0    July 4th, 1996\n",
       "1        10/04/2016\n",
       "2             hello\n",
       "3        2015-02-31\n",
       "dtype: object"
      ]
     },
     "execution_count": 46,
     "metadata": {},
     "output_type": "execute_result"
    }
   ],
   "source": [
    "dates = pd.Series(['July 4th, 1996','10/04/2016','hello','2015-02-31'])\n",
    "dates"
   ]
  },
  {
   "cell_type": "code",
   "execution_count": 49,
   "metadata": {},
   "outputs": [
    {
     "data": {
      "text/plain": [
       "0   1996-07-04\n",
       "1   2016-10-04\n",
       "2          NaT\n",
       "3          NaT\n",
       "dtype: datetime64[ns]"
      ]
     },
     "execution_count": 49,
     "metadata": {},
     "output_type": "execute_result"
    }
   ],
   "source": [
    "pd.to_datetime(dates,errors='coerce')"
   ]
  },
  {
   "cell_type": "markdown",
   "metadata": {},
   "source": [
    "## Create a Range of Dates with the pd.date_range() Method"
   ]
  },
  {
   "cell_type": "code",
   "execution_count": 51,
   "metadata": {},
   "outputs": [
    {
     "data": {
      "text/plain": [
       "DatetimeIndex(['2016-01-01', '2016-01-02', '2016-01-03', '2016-01-04',\n",
       "               '2016-01-05', '2016-01-06', '2016-01-07', '2016-01-08',\n",
       "               '2016-01-09', '2016-01-10'],\n",
       "              dtype='datetime64[ns]', freq='D')"
      ]
     },
     "execution_count": 51,
     "metadata": {},
     "output_type": "execute_result"
    }
   ],
   "source": [
    "times = pd.date_range(start='2016-01-01',end='2016-01-10',freq='D')\n",
    "times"
   ]
  },
  {
   "cell_type": "code",
   "execution_count": 52,
   "metadata": {},
   "outputs": [
    {
     "data": {
      "text/plain": [
       "pandas.core.indexes.datetimes.DatetimeIndex"
      ]
     },
     "execution_count": 52,
     "metadata": {},
     "output_type": "execute_result"
    }
   ],
   "source": [
    "type(times)"
   ]
  },
  {
   "cell_type": "code",
   "execution_count": 53,
   "metadata": {},
   "outputs": [
    {
     "data": {
      "text/plain": [
       "Timestamp('2016-01-01 00:00:00', freq='D')"
      ]
     },
     "execution_count": 53,
     "metadata": {},
     "output_type": "execute_result"
    }
   ],
   "source": [
    "times[0]"
   ]
  },
  {
   "cell_type": "code",
   "execution_count": 55,
   "metadata": {},
   "outputs": [
    {
     "data": {
      "text/plain": [
       "DatetimeIndex(['2016-01-01', '2016-01-03', '2016-01-05', '2016-01-07',\n",
       "               '2016-01-09'],\n",
       "              dtype='datetime64[ns]', freq='2D')"
      ]
     },
     "execution_count": 55,
     "metadata": {},
     "output_type": "execute_result"
    }
   ],
   "source": [
    "times = pd.date_range(start='2016-01-01',end='2016-01-10',freq='2D')\n",
    "times"
   ]
  },
  {
   "cell_type": "code",
   "execution_count": 56,
   "metadata": {},
   "outputs": [
    {
     "data": {
      "text/plain": [
       "DatetimeIndex(['2016-01-01', '2016-01-04', '2016-01-05', '2016-01-06',\n",
       "               '2016-01-07', '2016-01-08'],\n",
       "              dtype='datetime64[ns]', freq='B')"
      ]
     },
     "execution_count": 56,
     "metadata": {},
     "output_type": "execute_result"
    }
   ],
   "source": [
    "times = pd.date_range(start='2016-01-01',end='2016-01-10',freq='B')\n",
    "times"
   ]
  },
  {
   "cell_type": "code",
   "execution_count": 57,
   "metadata": {},
   "outputs": [
    {
     "data": {
      "text/plain": [
       "DatetimeIndex(['2016-01-03', '2016-01-10'], dtype='datetime64[ns]', freq='W-SUN')"
      ]
     },
     "execution_count": 57,
     "metadata": {},
     "output_type": "execute_result"
    }
   ],
   "source": [
    "times = pd.date_range(start='2016-01-01',end='2016-01-15',freq='W')\n",
    "times"
   ]
  },
  {
   "cell_type": "code",
   "execution_count": 58,
   "metadata": {},
   "outputs": [
    {
     "data": {
      "text/plain": [
       "DatetimeIndex(['2016-01-01', '2016-01-08', '2016-01-15'], dtype='datetime64[ns]', freq='W-FRI')"
      ]
     },
     "execution_count": 58,
     "metadata": {},
     "output_type": "execute_result"
    }
   ],
   "source": [
    "times = pd.date_range(start='2016-01-01',end='2016-01-15',freq='W-FRI')\n",
    "times"
   ]
  },
  {
   "cell_type": "code",
   "execution_count": 59,
   "metadata": {},
   "outputs": [
    {
     "data": {
      "text/plain": [
       "DatetimeIndex(['2016-01-01 00:00:00', '2016-01-01 01:00:00',\n",
       "               '2016-01-01 02:00:00', '2016-01-01 03:00:00',\n",
       "               '2016-01-01 04:00:00', '2016-01-01 05:00:00',\n",
       "               '2016-01-01 06:00:00', '2016-01-01 07:00:00',\n",
       "               '2016-01-01 08:00:00', '2016-01-01 09:00:00',\n",
       "               ...\n",
       "               '2016-01-14 15:00:00', '2016-01-14 16:00:00',\n",
       "               '2016-01-14 17:00:00', '2016-01-14 18:00:00',\n",
       "               '2016-01-14 19:00:00', '2016-01-14 20:00:00',\n",
       "               '2016-01-14 21:00:00', '2016-01-14 22:00:00',\n",
       "               '2016-01-14 23:00:00', '2016-01-15 00:00:00'],\n",
       "              dtype='datetime64[ns]', length=337, freq='H')"
      ]
     },
     "execution_count": 59,
     "metadata": {},
     "output_type": "execute_result"
    }
   ],
   "source": [
    "times = pd.date_range(start='2016-01-01',end='2016-01-15',freq='H')\n",
    "times"
   ]
  },
  {
   "cell_type": "code",
   "execution_count": 60,
   "metadata": {},
   "outputs": [
    {
     "data": {
      "text/plain": [
       "DatetimeIndex(['2016-01-01 00:00:00', '2016-01-01 06:00:00',\n",
       "               '2016-01-01 12:00:00', '2016-01-01 18:00:00',\n",
       "               '2016-01-02 00:00:00', '2016-01-02 06:00:00',\n",
       "               '2016-01-02 12:00:00', '2016-01-02 18:00:00',\n",
       "               '2016-01-03 00:00:00', '2016-01-03 06:00:00',\n",
       "               '2016-01-03 12:00:00', '2016-01-03 18:00:00',\n",
       "               '2016-01-04 00:00:00', '2016-01-04 06:00:00',\n",
       "               '2016-01-04 12:00:00', '2016-01-04 18:00:00',\n",
       "               '2016-01-05 00:00:00', '2016-01-05 06:00:00',\n",
       "               '2016-01-05 12:00:00', '2016-01-05 18:00:00',\n",
       "               '2016-01-06 00:00:00', '2016-01-06 06:00:00',\n",
       "               '2016-01-06 12:00:00', '2016-01-06 18:00:00',\n",
       "               '2016-01-07 00:00:00', '2016-01-07 06:00:00',\n",
       "               '2016-01-07 12:00:00', '2016-01-07 18:00:00',\n",
       "               '2016-01-08 00:00:00', '2016-01-08 06:00:00',\n",
       "               '2016-01-08 12:00:00', '2016-01-08 18:00:00',\n",
       "               '2016-01-09 00:00:00', '2016-01-09 06:00:00',\n",
       "               '2016-01-09 12:00:00', '2016-01-09 18:00:00',\n",
       "               '2016-01-10 00:00:00', '2016-01-10 06:00:00',\n",
       "               '2016-01-10 12:00:00', '2016-01-10 18:00:00',\n",
       "               '2016-01-11 00:00:00', '2016-01-11 06:00:00',\n",
       "               '2016-01-11 12:00:00', '2016-01-11 18:00:00',\n",
       "               '2016-01-12 00:00:00', '2016-01-12 06:00:00',\n",
       "               '2016-01-12 12:00:00', '2016-01-12 18:00:00',\n",
       "               '2016-01-13 00:00:00', '2016-01-13 06:00:00',\n",
       "               '2016-01-13 12:00:00', '2016-01-13 18:00:00',\n",
       "               '2016-01-14 00:00:00', '2016-01-14 06:00:00',\n",
       "               '2016-01-14 12:00:00', '2016-01-14 18:00:00',\n",
       "               '2016-01-15 00:00:00'],\n",
       "              dtype='datetime64[ns]', freq='6H')"
      ]
     },
     "execution_count": 60,
     "metadata": {},
     "output_type": "execute_result"
    }
   ],
   "source": [
    "# 6 hours\n",
    "times = pd.date_range(start='2016-01-01',end='2016-01-15',freq='6H')\n",
    "times"
   ]
  },
  {
   "cell_type": "code",
   "execution_count": 61,
   "metadata": {},
   "outputs": [
    {
     "data": {
      "text/plain": [
       "DatetimeIndex(['2016-01-31', '2016-02-29', '2016-03-31', '2016-04-30',\n",
       "               '2016-05-31', '2016-06-30', '2016-07-31', '2016-08-31',\n",
       "               '2016-09-30', '2016-10-31', '2016-11-30', '2016-12-31'],\n",
       "              dtype='datetime64[ns]', freq='M')"
      ]
     },
     "execution_count": 61,
     "metadata": {},
     "output_type": "execute_result"
    }
   ],
   "source": [
    "# month end\n",
    "times = pd.date_range(start='2016-01-01',end='2016-12-31',freq='M')\n",
    "times"
   ]
  },
  {
   "cell_type": "code",
   "execution_count": 62,
   "metadata": {},
   "outputs": [
    {
     "data": {
      "text/plain": [
       "DatetimeIndex(['2016-01-01', '2016-02-01', '2016-03-01', '2016-04-01',\n",
       "               '2016-05-01', '2016-06-01', '2016-07-01', '2016-08-01',\n",
       "               '2016-09-01', '2016-10-01', '2016-11-01', '2016-12-01'],\n",
       "              dtype='datetime64[ns]', freq='MS')"
      ]
     },
     "execution_count": 62,
     "metadata": {},
     "output_type": "execute_result"
    }
   ],
   "source": [
    "# month start\n",
    "times = pd.date_range(start='2016-01-01',end='2016-12-31',freq='MS')\n",
    "times"
   ]
  },
  {
   "cell_type": "code",
   "execution_count": 63,
   "metadata": {},
   "outputs": [
    {
     "data": {
      "text/plain": [
       "DatetimeIndex(['2016-12-31', '2017-12-31', '2018-12-31', '2019-12-31',\n",
       "               '2020-12-31', '2021-12-31', '2022-12-31', '2023-12-31',\n",
       "               '2024-12-31', '2025-12-31', '2026-12-31', '2027-12-31',\n",
       "               '2028-12-31', '2029-12-31', '2030-12-31', '2031-12-31',\n",
       "               '2032-12-31', '2033-12-31', '2034-12-31', '2035-12-31',\n",
       "               '2036-12-31', '2037-12-31', '2038-12-31', '2039-12-31',\n",
       "               '2040-12-31', '2041-12-31', '2042-12-31', '2043-12-31',\n",
       "               '2044-12-31', '2045-12-31', '2046-12-31', '2047-12-31',\n",
       "               '2048-12-31', '2049-12-31'],\n",
       "              dtype='datetime64[ns]', freq='A-DEC')"
      ]
     },
     "execution_count": 63,
     "metadata": {},
     "output_type": "execute_result"
    }
   ],
   "source": [
    "# year end\n",
    "times = pd.date_range(start='2016-01-01',end='2050-01-01',freq='A')\n",
    "times"
   ]
  },
  {
   "cell_type": "code",
   "execution_count": 64,
   "metadata": {},
   "outputs": [
    {
     "data": {
      "text/plain": [
       "DatetimeIndex(['2012-09-09', '2012-09-10', '2012-09-11', '2012-09-12',\n",
       "               '2012-09-13', '2012-09-14', '2012-09-15', '2012-09-16',\n",
       "               '2012-09-17', '2012-09-18', '2012-09-19', '2012-09-20',\n",
       "               '2012-09-21', '2012-09-22', '2012-09-23', '2012-09-24',\n",
       "               '2012-09-25', '2012-09-26', '2012-09-27', '2012-09-28',\n",
       "               '2012-09-29', '2012-09-30', '2012-10-01', '2012-10-02',\n",
       "               '2012-10-03'],\n",
       "              dtype='datetime64[ns]', freq='D')"
      ]
     },
     "execution_count": 64,
     "metadata": {},
     "output_type": "execute_result"
    }
   ],
   "source": [
    "times = pd.date_range(start='2012-09-09',periods=25,freq='D')\n",
    "times"
   ]
  },
  {
   "cell_type": "code",
   "execution_count": 65,
   "metadata": {},
   "outputs": [
    {
     "data": {
      "text/plain": [
       "25"
      ]
     },
     "execution_count": 65,
     "metadata": {},
     "output_type": "execute_result"
    }
   ],
   "source": [
    "len(times)"
   ]
  },
  {
   "cell_type": "code",
   "execution_count": 66,
   "metadata": {},
   "outputs": [
    {
     "data": {
      "text/plain": [
       "DatetimeIndex(['2012-09-10', '2012-09-11', '2012-09-12', '2012-09-13',\n",
       "               '2012-09-14', '2012-09-17', '2012-09-18', '2012-09-19',\n",
       "               '2012-09-20', '2012-09-21', '2012-09-24', '2012-09-25',\n",
       "               '2012-09-26', '2012-09-27', '2012-09-28', '2012-10-01',\n",
       "               '2012-10-02', '2012-10-03', '2012-10-04', '2012-10-05',\n",
       "               '2012-10-08', '2012-10-09', '2012-10-10', '2012-10-11',\n",
       "               '2012-10-12', '2012-10-15', '2012-10-16', '2012-10-17',\n",
       "               '2012-10-18', '2012-10-19', '2012-10-22', '2012-10-23',\n",
       "               '2012-10-24', '2012-10-25', '2012-10-26', '2012-10-29',\n",
       "               '2012-10-30', '2012-10-31', '2012-11-01', '2012-11-02',\n",
       "               '2012-11-05', '2012-11-06', '2012-11-07', '2012-11-08',\n",
       "               '2012-11-09', '2012-11-12', '2012-11-13', '2012-11-14',\n",
       "               '2012-11-15', '2012-11-16'],\n",
       "              dtype='datetime64[ns]', freq='B')"
      ]
     },
     "execution_count": 66,
     "metadata": {},
     "output_type": "execute_result"
    }
   ],
   "source": [
    "# 50 business days from 2012-09-09\n",
    "times = pd.date_range(start='2012-09-09',periods=50,freq='B')\n",
    "times"
   ]
  },
  {
   "cell_type": "code",
   "execution_count": 67,
   "metadata": {},
   "outputs": [
    {
     "data": {
      "text/plain": [
       "DatetimeIndex(['2012-09-09', '2012-09-16', '2012-09-23', '2012-09-30',\n",
       "               '2012-10-07', '2012-10-14', '2012-10-21', '2012-10-28',\n",
       "               '2012-11-04', '2012-11-11', '2012-11-18', '2012-11-25',\n",
       "               '2012-12-02', '2012-12-09', '2012-12-16', '2012-12-23',\n",
       "               '2012-12-30', '2013-01-06', '2013-01-13', '2013-01-20',\n",
       "               '2013-01-27', '2013-02-03', '2013-02-10', '2013-02-17',\n",
       "               '2013-02-24', '2013-03-03', '2013-03-10', '2013-03-17',\n",
       "               '2013-03-24', '2013-03-31', '2013-04-07', '2013-04-14',\n",
       "               '2013-04-21', '2013-04-28', '2013-05-05', '2013-05-12',\n",
       "               '2013-05-19', '2013-05-26', '2013-06-02', '2013-06-09',\n",
       "               '2013-06-16', '2013-06-23', '2013-06-30', '2013-07-07',\n",
       "               '2013-07-14', '2013-07-21', '2013-07-28', '2013-08-04',\n",
       "               '2013-08-11', '2013-08-18'],\n",
       "              dtype='datetime64[ns]', freq='W-SUN')"
      ]
     },
     "execution_count": 67,
     "metadata": {},
     "output_type": "execute_result"
    }
   ],
   "source": [
    "# 50 weeks from 2012-09-09\n",
    "times = pd.date_range(start='2012-09-09',periods=50,freq='W')\n",
    "times"
   ]
  },
  {
   "cell_type": "code",
   "execution_count": 68,
   "metadata": {},
   "outputs": [
    {
     "data": {
      "text/plain": [
       "DatetimeIndex(['2012-09-11', '2012-09-18', '2012-09-25', '2012-10-02',\n",
       "               '2012-10-09', '2012-10-16', '2012-10-23', '2012-10-30',\n",
       "               '2012-11-06', '2012-11-13', '2012-11-20', '2012-11-27',\n",
       "               '2012-12-04', '2012-12-11', '2012-12-18', '2012-12-25',\n",
       "               '2013-01-01', '2013-01-08', '2013-01-15', '2013-01-22',\n",
       "               '2013-01-29', '2013-02-05', '2013-02-12', '2013-02-19',\n",
       "               '2013-02-26', '2013-03-05', '2013-03-12', '2013-03-19',\n",
       "               '2013-03-26', '2013-04-02', '2013-04-09', '2013-04-16',\n",
       "               '2013-04-23', '2013-04-30', '2013-05-07', '2013-05-14',\n",
       "               '2013-05-21', '2013-05-28', '2013-06-04', '2013-06-11',\n",
       "               '2013-06-18', '2013-06-25', '2013-07-02', '2013-07-09',\n",
       "               '2013-07-16', '2013-07-23', '2013-07-30', '2013-08-06',\n",
       "               '2013-08-13', '2013-08-20'],\n",
       "              dtype='datetime64[ns]', freq='W-TUE')"
      ]
     },
     "execution_count": 68,
     "metadata": {},
     "output_type": "execute_result"
    }
   ],
   "source": [
    "# 50 weeks from 2012-09-09, week starting on tues\n",
    "times = pd.date_range(start='2012-09-09',periods=50,freq='W-TUE')\n",
    "times"
   ]
  },
  {
   "cell_type": "code",
   "execution_count": 69,
   "metadata": {},
   "outputs": [
    {
     "data": {
      "text/plain": [
       "DatetimeIndex(['2012-09-09 00:00:00', '2012-09-09 06:00:00',\n",
       "               '2012-09-09 12:00:00', '2012-09-09 18:00:00',\n",
       "               '2012-09-10 00:00:00', '2012-09-10 06:00:00',\n",
       "               '2012-09-10 12:00:00', '2012-09-10 18:00:00',\n",
       "               '2012-09-11 00:00:00', '2012-09-11 06:00:00',\n",
       "               '2012-09-11 12:00:00', '2012-09-11 18:00:00',\n",
       "               '2012-09-12 00:00:00', '2012-09-12 06:00:00',\n",
       "               '2012-09-12 12:00:00', '2012-09-12 18:00:00',\n",
       "               '2012-09-13 00:00:00', '2012-09-13 06:00:00',\n",
       "               '2012-09-13 12:00:00', '2012-09-13 18:00:00',\n",
       "               '2012-09-14 00:00:00', '2012-09-14 06:00:00',\n",
       "               '2012-09-14 12:00:00', '2012-09-14 18:00:00',\n",
       "               '2012-09-15 00:00:00', '2012-09-15 06:00:00',\n",
       "               '2012-09-15 12:00:00', '2012-09-15 18:00:00',\n",
       "               '2012-09-16 00:00:00', '2012-09-16 06:00:00',\n",
       "               '2012-09-16 12:00:00', '2012-09-16 18:00:00',\n",
       "               '2012-09-17 00:00:00', '2012-09-17 06:00:00',\n",
       "               '2012-09-17 12:00:00', '2012-09-17 18:00:00',\n",
       "               '2012-09-18 00:00:00', '2012-09-18 06:00:00',\n",
       "               '2012-09-18 12:00:00', '2012-09-18 18:00:00',\n",
       "               '2012-09-19 00:00:00', '2012-09-19 06:00:00',\n",
       "               '2012-09-19 12:00:00', '2012-09-19 18:00:00',\n",
       "               '2012-09-20 00:00:00', '2012-09-20 06:00:00',\n",
       "               '2012-09-20 12:00:00', '2012-09-20 18:00:00',\n",
       "               '2012-09-21 00:00:00', '2012-09-21 06:00:00'],\n",
       "              dtype='datetime64[ns]', freq='6H')"
      ]
     },
     "execution_count": 69,
     "metadata": {},
     "output_type": "execute_result"
    }
   ],
   "source": [
    "# 50 6-hour increments\n",
    "times = pd.date_range(start='2012-09-09',periods=50,freq='6H')\n",
    "times"
   ]
  },
  {
   "cell_type": "code",
   "execution_count": 70,
   "metadata": {},
   "outputs": [
    {
     "data": {
      "text/plain": [
       "DatetimeIndex(['1999-12-12', '1999-12-13', '1999-12-14', '1999-12-15',\n",
       "               '1999-12-16', '1999-12-17', '1999-12-18', '1999-12-19',\n",
       "               '1999-12-20', '1999-12-21', '1999-12-22', '1999-12-23',\n",
       "               '1999-12-24', '1999-12-25', '1999-12-26', '1999-12-27',\n",
       "               '1999-12-28', '1999-12-29', '1999-12-30', '1999-12-31'],\n",
       "              dtype='datetime64[ns]', freq='D')"
      ]
     },
     "execution_count": 70,
     "metadata": {},
     "output_type": "execute_result"
    }
   ],
   "source": [
    "# starts at endpoint and moves back in time\n",
    "times = pd.date_range(end='1999-12-31',periods=20,freq='D')\n",
    "times"
   ]
  },
  {
   "cell_type": "code",
   "execution_count": 71,
   "metadata": {},
   "outputs": [
    {
     "data": {
      "text/plain": [
       "DatetimeIndex(['1999-11-08', '1999-11-09', '1999-11-10', '1999-11-11',\n",
       "               '1999-11-12', '1999-11-15', '1999-11-16', '1999-11-17',\n",
       "               '1999-11-18', '1999-11-19', '1999-11-22', '1999-11-23',\n",
       "               '1999-11-24', '1999-11-25', '1999-11-26', '1999-11-29',\n",
       "               '1999-11-30', '1999-12-01', '1999-12-02', '1999-12-03',\n",
       "               '1999-12-06', '1999-12-07', '1999-12-08', '1999-12-09',\n",
       "               '1999-12-10', '1999-12-13', '1999-12-14', '1999-12-15',\n",
       "               '1999-12-16', '1999-12-17', '1999-12-20', '1999-12-21',\n",
       "               '1999-12-22', '1999-12-23', '1999-12-24', '1999-12-27',\n",
       "               '1999-12-28', '1999-12-29', '1999-12-30', '1999-12-31'],\n",
       "              dtype='datetime64[ns]', freq='B')"
      ]
     },
     "execution_count": 71,
     "metadata": {},
     "output_type": "execute_result"
    }
   ],
   "source": [
    "times = pd.date_range(end='1999-12-31',periods=40,freq='B')\n",
    "times"
   ]
  },
  {
   "cell_type": "code",
   "execution_count": 72,
   "metadata": {},
   "outputs": [
    {
     "data": {
      "text/plain": [
       "DatetimeIndex(['1999-08-15', '1999-08-22', '1999-08-29', '1999-09-05',\n",
       "               '1999-09-12', '1999-09-19', '1999-09-26', '1999-10-03',\n",
       "               '1999-10-10', '1999-10-17', '1999-10-24', '1999-10-31',\n",
       "               '1999-11-07', '1999-11-14', '1999-11-21', '1999-11-28',\n",
       "               '1999-12-05', '1999-12-12', '1999-12-19', '1999-12-26'],\n",
       "              dtype='datetime64[ns]', freq='W-SUN')"
      ]
     },
     "execution_count": 72,
     "metadata": {},
     "output_type": "execute_result"
    }
   ],
   "source": [
    "times = pd.date_range(end='1999-12-31',periods=20,freq='W-SUN')\n",
    "times"
   ]
  },
  {
   "cell_type": "code",
   "execution_count": 73,
   "metadata": {},
   "outputs": [
    {
     "data": {
      "text/plain": [
       "DatetimeIndex(['1998-05-31', '1998-06-30', '1998-07-31', '1998-08-31',\n",
       "               '1998-09-30', '1998-10-31', '1998-11-30', '1998-12-31',\n",
       "               '1999-01-31', '1999-02-28', '1999-03-31', '1999-04-30',\n",
       "               '1999-05-31', '1999-06-30', '1999-07-31', '1999-08-31',\n",
       "               '1999-09-30', '1999-10-31', '1999-11-30', '1999-12-31'],\n",
       "              dtype='datetime64[ns]', freq='M')"
      ]
     },
     "execution_count": 73,
     "metadata": {},
     "output_type": "execute_result"
    }
   ],
   "source": [
    "times = pd.date_range(end='1999-12-31',periods=20,freq='M')\n",
    "times"
   ]
  },
  {
   "cell_type": "code",
   "execution_count": 74,
   "metadata": {},
   "outputs": [
    {
     "data": {
      "text/plain": [
       "DatetimeIndex(['1995-08-01', '1995-09-01', '1995-10-01', '1995-11-01',\n",
       "               '1995-12-01', '1996-01-01', '1996-02-01', '1996-03-01',\n",
       "               '1996-04-01', '1996-05-01', '1996-06-01', '1996-07-01',\n",
       "               '1996-08-01', '1996-09-01', '1996-10-01', '1996-11-01',\n",
       "               '1996-12-01', '1997-01-01', '1997-02-01', '1997-03-01',\n",
       "               '1997-04-01', '1997-05-01', '1997-06-01', '1997-07-01',\n",
       "               '1997-08-01', '1997-09-01', '1997-10-01', '1997-11-01',\n",
       "               '1997-12-01', '1998-01-01', '1998-02-01', '1998-03-01',\n",
       "               '1998-04-01', '1998-05-01', '1998-06-01', '1998-07-01',\n",
       "               '1998-08-01', '1998-09-01', '1998-10-01', '1998-11-01',\n",
       "               '1998-12-01', '1999-01-01', '1999-02-01', '1999-03-01',\n",
       "               '1999-04-01', '1999-05-01', '1999-06-01', '1999-07-01',\n",
       "               '1999-08-01', '1999-09-01', '1999-10-01', '1999-11-01',\n",
       "               '1999-12-01'],\n",
       "              dtype='datetime64[ns]', freq='MS')"
      ]
     },
     "execution_count": 74,
     "metadata": {},
     "output_type": "execute_result"
    }
   ],
   "source": [
    "times = pd.date_range(end='1999-12-31',periods=53,freq='MS')\n",
    "times"
   ]
  },
  {
   "cell_type": "code",
   "execution_count": 75,
   "metadata": {},
   "outputs": [
    {
     "data": {
      "text/plain": [
       "DatetimeIndex(['1999-12-02 03:00:00', '1999-12-02 10:00:00',\n",
       "               '1999-12-02 17:00:00', '1999-12-03 00:00:00',\n",
       "               '1999-12-03 07:00:00', '1999-12-03 14:00:00',\n",
       "               '1999-12-03 21:00:00', '1999-12-04 04:00:00',\n",
       "               '1999-12-04 11:00:00', '1999-12-04 18:00:00',\n",
       "               '1999-12-05 01:00:00', '1999-12-05 08:00:00',\n",
       "               '1999-12-05 15:00:00', '1999-12-05 22:00:00',\n",
       "               '1999-12-06 05:00:00', '1999-12-06 12:00:00',\n",
       "               '1999-12-06 19:00:00', '1999-12-07 02:00:00',\n",
       "               '1999-12-07 09:00:00', '1999-12-07 16:00:00',\n",
       "               '1999-12-07 23:00:00', '1999-12-08 06:00:00',\n",
       "               '1999-12-08 13:00:00', '1999-12-08 20:00:00',\n",
       "               '1999-12-09 03:00:00', '1999-12-09 10:00:00',\n",
       "               '1999-12-09 17:00:00', '1999-12-10 00:00:00',\n",
       "               '1999-12-10 07:00:00', '1999-12-10 14:00:00',\n",
       "               '1999-12-10 21:00:00', '1999-12-11 04:00:00',\n",
       "               '1999-12-11 11:00:00', '1999-12-11 18:00:00',\n",
       "               '1999-12-12 01:00:00', '1999-12-12 08:00:00',\n",
       "               '1999-12-12 15:00:00', '1999-12-12 22:00:00',\n",
       "               '1999-12-13 05:00:00', '1999-12-13 12:00:00',\n",
       "               '1999-12-13 19:00:00', '1999-12-14 02:00:00',\n",
       "               '1999-12-14 09:00:00', '1999-12-14 16:00:00',\n",
       "               '1999-12-14 23:00:00', '1999-12-15 06:00:00',\n",
       "               '1999-12-15 13:00:00', '1999-12-15 20:00:00',\n",
       "               '1999-12-16 03:00:00', '1999-12-16 10:00:00',\n",
       "               '1999-12-16 17:00:00', '1999-12-17 00:00:00',\n",
       "               '1999-12-17 07:00:00', '1999-12-17 14:00:00',\n",
       "               '1999-12-17 21:00:00', '1999-12-18 04:00:00',\n",
       "               '1999-12-18 11:00:00', '1999-12-18 18:00:00',\n",
       "               '1999-12-19 01:00:00', '1999-12-19 08:00:00',\n",
       "               '1999-12-19 15:00:00', '1999-12-19 22:00:00',\n",
       "               '1999-12-20 05:00:00', '1999-12-20 12:00:00',\n",
       "               '1999-12-20 19:00:00', '1999-12-21 02:00:00',\n",
       "               '1999-12-21 09:00:00', '1999-12-21 16:00:00',\n",
       "               '1999-12-21 23:00:00', '1999-12-22 06:00:00',\n",
       "               '1999-12-22 13:00:00', '1999-12-22 20:00:00',\n",
       "               '1999-12-23 03:00:00', '1999-12-23 10:00:00',\n",
       "               '1999-12-23 17:00:00', '1999-12-24 00:00:00',\n",
       "               '1999-12-24 07:00:00', '1999-12-24 14:00:00',\n",
       "               '1999-12-24 21:00:00', '1999-12-25 04:00:00',\n",
       "               '1999-12-25 11:00:00', '1999-12-25 18:00:00',\n",
       "               '1999-12-26 01:00:00', '1999-12-26 08:00:00',\n",
       "               '1999-12-26 15:00:00', '1999-12-26 22:00:00',\n",
       "               '1999-12-27 05:00:00', '1999-12-27 12:00:00',\n",
       "               '1999-12-27 19:00:00', '1999-12-28 02:00:00',\n",
       "               '1999-12-28 09:00:00', '1999-12-28 16:00:00',\n",
       "               '1999-12-28 23:00:00', '1999-12-29 06:00:00',\n",
       "               '1999-12-29 13:00:00', '1999-12-29 20:00:00',\n",
       "               '1999-12-30 03:00:00', '1999-12-30 10:00:00',\n",
       "               '1999-12-30 17:00:00', '1999-12-31 00:00:00'],\n",
       "              dtype='datetime64[ns]', freq='7H')"
      ]
     },
     "execution_count": 75,
     "metadata": {},
     "output_type": "execute_result"
    }
   ],
   "source": [
    "times = pd.date_range(end='1999-12-31',periods=100,freq='7H')\n",
    "times"
   ]
  },
  {
   "cell_type": "markdown",
   "metadata": {},
   "source": [
    "## The .dt Accessor"
   ]
  },
  {
   "cell_type": "code",
   "execution_count": 86,
   "metadata": {},
   "outputs": [
    {
     "data": {
      "text/plain": [
       "DatetimeIndex(['2000-01-01', '2000-01-25', '2000-02-18', '2000-03-13',\n",
       "               '2000-04-06', '2000-04-30', '2000-05-24', '2000-06-17',\n",
       "               '2000-07-11', '2000-08-04',\n",
       "               ...\n",
       "               '2010-05-20', '2010-06-13', '2010-07-07', '2010-07-31',\n",
       "               '2010-08-24', '2010-09-17', '2010-10-11', '2010-11-04',\n",
       "               '2010-11-28', '2010-12-22'],\n",
       "              dtype='datetime64[ns]', length=168, freq='24D')"
      ]
     },
     "execution_count": 86,
     "metadata": {},
     "output_type": "execute_result"
    }
   ],
   "source": [
    "dates = pd.date_range(start='2000-01-01',end='2010-12-31',freq='24D')\n",
    "dates"
   ]
  },
  {
   "cell_type": "code",
   "execution_count": 87,
   "metadata": {},
   "outputs": [
    {
     "data": {
      "text/plain": [
       "0   2000-01-01\n",
       "1   2000-01-25\n",
       "2   2000-02-18\n",
       "3   2000-03-13\n",
       "4   2000-04-06\n",
       "dtype: datetime64[ns]"
      ]
     },
     "execution_count": 87,
     "metadata": {},
     "output_type": "execute_result"
    }
   ],
   "source": [
    "s = pd.Series(dates)\n",
    "s.head()"
   ]
  },
  {
   "cell_type": "code",
   "execution_count": 88,
   "metadata": {},
   "outputs": [
    {
     "data": {
      "text/plain": [
       "0     1\n",
       "1    25\n",
       "2    18\n",
       "3    13\n",
       "4     6\n",
       "dtype: int64"
      ]
     },
     "execution_count": 88,
     "metadata": {},
     "output_type": "execute_result"
    }
   ],
   "source": [
    "s.dt.day.head()"
   ]
  },
  {
   "cell_type": "code",
   "execution_count": 89,
   "metadata": {},
   "outputs": [
    {
     "data": {
      "text/plain": [
       "0    1\n",
       "1    1\n",
       "2    2\n",
       "3    3\n",
       "4    4\n",
       "dtype: int64"
      ]
     },
     "execution_count": 89,
     "metadata": {},
     "output_type": "execute_result"
    }
   ],
   "source": [
    "s.dt.month.head()"
   ]
  },
  {
   "cell_type": "code",
   "execution_count": 90,
   "metadata": {},
   "outputs": [
    {
     "data": {
      "text/plain": [
       "0    Saturday\n",
       "1     Tuesday\n",
       "2      Friday\n",
       "3      Monday\n",
       "4    Thursday\n",
       "dtype: object"
      ]
     },
     "execution_count": 90,
     "metadata": {},
     "output_type": "execute_result"
    }
   ],
   "source": [
    "s.dt.weekday_name.head()"
   ]
  },
  {
   "cell_type": "code",
   "execution_count": 92,
   "metadata": {},
   "outputs": [
    {
     "data": {
      "text/plain": [
       "0     True\n",
       "1    False\n",
       "2    False\n",
       "3    False\n",
       "4    False\n",
       "dtype: bool"
      ]
     },
     "execution_count": 92,
     "metadata": {},
     "output_type": "execute_result"
    }
   ],
   "source": [
    "s.dt.is_quarter_start.head()"
   ]
  },
  {
   "cell_type": "code",
   "execution_count": 93,
   "metadata": {},
   "outputs": [
    {
     "data": {
      "text/plain": [
       "0     2000-01-01\n",
       "19    2001-04-01\n",
       "38    2002-07-01\n",
       "137   2009-01-01\n",
       "dtype: datetime64[ns]"
      ]
     },
     "execution_count": 93,
     "metadata": {},
     "output_type": "execute_result"
    }
   ],
   "source": [
    "mask = s.dt.is_quarter_start\n",
    "s[mask]"
   ]
  },
  {
   "cell_type": "markdown",
   "metadata": {},
   "source": [
    "## Import Financial Data Set with pandas_datareader Library"
   ]
  },
  {
   "cell_type": "code",
   "execution_count": 94,
   "metadata": {},
   "outputs": [],
   "source": [
    "import pandas as pd\n",
    "import datetime as dt\n",
    "from pandas_datareader import data"
   ]
  },
  {
   "cell_type": "code",
   "execution_count": 99,
   "metadata": {},
   "outputs": [
    {
     "data": {
      "text/html": [
       "<div>\n",
       "<style scoped>\n",
       "    .dataframe tbody tr th:only-of-type {\n",
       "        vertical-align: middle;\n",
       "    }\n",
       "\n",
       "    .dataframe tbody tr th {\n",
       "        vertical-align: top;\n",
       "    }\n",
       "\n",
       "    .dataframe thead th {\n",
       "        text-align: right;\n",
       "    }\n",
       "</style>\n",
       "<table border=\"1\" class=\"dataframe\">\n",
       "  <thead>\n",
       "    <tr style=\"text-align: right;\">\n",
       "      <th></th>\n",
       "      <th>open</th>\n",
       "      <th>high</th>\n",
       "      <th>low</th>\n",
       "      <th>close</th>\n",
       "      <th>volume</th>\n",
       "    </tr>\n",
       "    <tr>\n",
       "      <th>date</th>\n",
       "      <th></th>\n",
       "      <th></th>\n",
       "      <th></th>\n",
       "      <th></th>\n",
       "      <th></th>\n",
       "    </tr>\n",
       "  </thead>\n",
       "  <tbody>\n",
       "    <tr>\n",
       "      <th>2014-01-02</th>\n",
       "      <td>33.2632</td>\n",
       "      <td>33.3077</td>\n",
       "      <td>33.0406</td>\n",
       "      <td>33.0940</td>\n",
       "      <td>30643745</td>\n",
       "    </tr>\n",
       "    <tr>\n",
       "      <th>2014-01-03</th>\n",
       "      <td>33.1296</td>\n",
       "      <td>33.1474</td>\n",
       "      <td>32.5953</td>\n",
       "      <td>32.8713</td>\n",
       "      <td>31134795</td>\n",
       "    </tr>\n",
       "    <tr>\n",
       "      <th>2014-01-06</th>\n",
       "      <td>32.8179</td>\n",
       "      <td>32.8535</td>\n",
       "      <td>32.1589</td>\n",
       "      <td>32.1767</td>\n",
       "      <td>43615035</td>\n",
       "    </tr>\n",
       "    <tr>\n",
       "      <th>2014-01-07</th>\n",
       "      <td>32.3504</td>\n",
       "      <td>32.4973</td>\n",
       "      <td>32.2479</td>\n",
       "      <td>32.4261</td>\n",
       "      <td>35924726</td>\n",
       "    </tr>\n",
       "    <tr>\n",
       "      <th>2014-01-08</th>\n",
       "      <td>32.0609</td>\n",
       "      <td>32.1856</td>\n",
       "      <td>31.6869</td>\n",
       "      <td>31.8472</td>\n",
       "      <td>59979542</td>\n",
       "    </tr>\n",
       "  </tbody>\n",
       "</table>\n",
       "</div>"
      ],
      "text/plain": [
       "               open     high      low    close    volume\n",
       "date                                                    \n",
       "2014-01-02  33.2632  33.3077  33.0406  33.0940  30643745\n",
       "2014-01-03  33.1296  33.1474  32.5953  32.8713  31134795\n",
       "2014-01-06  32.8179  32.8535  32.1589  32.1767  43615035\n",
       "2014-01-07  32.3504  32.4973  32.2479  32.4261  35924726\n",
       "2014-01-08  32.0609  32.1856  31.6869  31.8472  59979542"
      ]
     },
     "execution_count": 99,
     "metadata": {},
     "output_type": "execute_result"
    }
   ],
   "source": [
    "company = 'MSFT'\n",
    "start = '2014-01-01'\n",
    "end = '2017-12-31'\n",
    "\n",
    "stocks = data.DataReader(name=company,data_source='iex',start=start,end=end)\n",
    "stocks.head()"
   ]
  },
  {
   "cell_type": "markdown",
   "metadata": {},
   "source": [
    "**Note**: iex does not read in a datetime index"
   ]
  },
  {
   "cell_type": "code",
   "execution_count": 100,
   "metadata": {},
   "outputs": [
    {
     "data": {
      "text/plain": [
       "array([[  3.32632000e+01,   3.33077000e+01,   3.30406000e+01,\n",
       "          3.30940000e+01,   3.06437450e+07],\n",
       "       [  3.31296000e+01,   3.31474000e+01,   3.25953000e+01,\n",
       "          3.28713000e+01,   3.11347950e+07],\n",
       "       [  3.28179000e+01,   3.28535000e+01,   3.21589000e+01,\n",
       "          3.21767000e+01,   4.36150350e+07],\n",
       "       ..., \n",
       "       [  8.45562000e+01,   8.48820000e+01,   8.41268000e+01,\n",
       "          8.46154000e+01,   1.46780250e+07],\n",
       "       [  8.48030000e+01,   8.48326000e+01,   8.44575000e+01,\n",
       "          8.46253000e+01,   1.05943440e+07],\n",
       "       [  8.45365000e+01,   8.49511000e+01,   8.44081000e+01,\n",
       "          8.44476000e+01,   1.87174060e+07]])"
      ]
     },
     "execution_count": 100,
     "metadata": {},
     "output_type": "execute_result"
    }
   ],
   "source": [
    "stocks.values"
   ]
  },
  {
   "cell_type": "code",
   "execution_count": 101,
   "metadata": {},
   "outputs": [
    {
     "data": {
      "text/plain": [
       "Index(['open', 'high', 'low', 'close', 'volume'], dtype='object')"
      ]
     },
     "execution_count": 101,
     "metadata": {},
     "output_type": "execute_result"
    }
   ],
   "source": [
    "stocks.columns"
   ]
  },
  {
   "cell_type": "code",
   "execution_count": 104,
   "metadata": {},
   "outputs": [
    {
     "data": {
      "text/plain": [
       "Index(['2014-01-02', '2014-01-03', '2014-01-06', '2014-01-07', '2014-01-08',\n",
       "       '2014-01-09', '2014-01-10', '2014-01-13', '2014-01-14', '2014-01-15',\n",
       "       ...\n",
       "       '2017-12-15', '2017-12-18', '2017-12-19', '2017-12-20', '2017-12-21',\n",
       "       '2017-12-22', '2017-12-26', '2017-12-27', '2017-12-28', '2017-12-29'],\n",
       "      dtype='object', name='date', length=1007)"
      ]
     },
     "execution_count": 104,
     "metadata": {},
     "output_type": "execute_result"
    }
   ],
   "source": [
    "stocks.index"
   ]
  },
  {
   "cell_type": "code",
   "execution_count": 107,
   "metadata": {},
   "outputs": [],
   "source": [
    "stocks.reset_index(inplace=True)"
   ]
  },
  {
   "cell_type": "code",
   "execution_count": 110,
   "metadata": {},
   "outputs": [
    {
     "data": {
      "text/html": [
       "<div>\n",
       "<style scoped>\n",
       "    .dataframe tbody tr th:only-of-type {\n",
       "        vertical-align: middle;\n",
       "    }\n",
       "\n",
       "    .dataframe tbody tr th {\n",
       "        vertical-align: top;\n",
       "    }\n",
       "\n",
       "    .dataframe thead th {\n",
       "        text-align: right;\n",
       "    }\n",
       "</style>\n",
       "<table border=\"1\" class=\"dataframe\">\n",
       "  <thead>\n",
       "    <tr style=\"text-align: right;\">\n",
       "      <th></th>\n",
       "      <th>date</th>\n",
       "      <th>open</th>\n",
       "      <th>high</th>\n",
       "      <th>low</th>\n",
       "      <th>close</th>\n",
       "      <th>volume</th>\n",
       "    </tr>\n",
       "  </thead>\n",
       "  <tbody>\n",
       "    <tr>\n",
       "      <th>0</th>\n",
       "      <td>2014-01-02</td>\n",
       "      <td>33.2632</td>\n",
       "      <td>33.3077</td>\n",
       "      <td>33.0406</td>\n",
       "      <td>33.0940</td>\n",
       "      <td>30643745</td>\n",
       "    </tr>\n",
       "    <tr>\n",
       "      <th>1</th>\n",
       "      <td>2014-01-03</td>\n",
       "      <td>33.1296</td>\n",
       "      <td>33.1474</td>\n",
       "      <td>32.5953</td>\n",
       "      <td>32.8713</td>\n",
       "      <td>31134795</td>\n",
       "    </tr>\n",
       "    <tr>\n",
       "      <th>2</th>\n",
       "      <td>2014-01-06</td>\n",
       "      <td>32.8179</td>\n",
       "      <td>32.8535</td>\n",
       "      <td>32.1589</td>\n",
       "      <td>32.1767</td>\n",
       "      <td>43615035</td>\n",
       "    </tr>\n",
       "    <tr>\n",
       "      <th>3</th>\n",
       "      <td>2014-01-07</td>\n",
       "      <td>32.3504</td>\n",
       "      <td>32.4973</td>\n",
       "      <td>32.2479</td>\n",
       "      <td>32.4261</td>\n",
       "      <td>35924726</td>\n",
       "    </tr>\n",
       "    <tr>\n",
       "      <th>4</th>\n",
       "      <td>2014-01-08</td>\n",
       "      <td>32.0609</td>\n",
       "      <td>32.1856</td>\n",
       "      <td>31.6869</td>\n",
       "      <td>31.8472</td>\n",
       "      <td>59979542</td>\n",
       "    </tr>\n",
       "  </tbody>\n",
       "</table>\n",
       "</div>"
      ],
      "text/plain": [
       "        date     open     high      low    close    volume\n",
       "0 2014-01-02  33.2632  33.3077  33.0406  33.0940  30643745\n",
       "1 2014-01-03  33.1296  33.1474  32.5953  32.8713  31134795\n",
       "2 2014-01-06  32.8179  32.8535  32.1589  32.1767  43615035\n",
       "3 2014-01-07  32.3504  32.4973  32.2479  32.4261  35924726\n",
       "4 2014-01-08  32.0609  32.1856  31.6869  31.8472  59979542"
      ]
     },
     "execution_count": 110,
     "metadata": {},
     "output_type": "execute_result"
    }
   ],
   "source": [
    "stocks['date'] = pd.to_datetime(stocks['date'])\n",
    "stocks.head()"
   ]
  },
  {
   "cell_type": "code",
   "execution_count": 112,
   "metadata": {},
   "outputs": [
    {
     "data": {
      "text/plain": [
       "pandas._libs.tslib.Timestamp"
      ]
     },
     "execution_count": 112,
     "metadata": {},
     "output_type": "execute_result"
    }
   ],
   "source": [
    "type(stocks['date'][0])"
   ]
  },
  {
   "cell_type": "code",
   "execution_count": 113,
   "metadata": {},
   "outputs": [
    {
     "data": {
      "text/html": [
       "<div>\n",
       "<style scoped>\n",
       "    .dataframe tbody tr th:only-of-type {\n",
       "        vertical-align: middle;\n",
       "    }\n",
       "\n",
       "    .dataframe tbody tr th {\n",
       "        vertical-align: top;\n",
       "    }\n",
       "\n",
       "    .dataframe thead th {\n",
       "        text-align: right;\n",
       "    }\n",
       "</style>\n",
       "<table border=\"1\" class=\"dataframe\">\n",
       "  <thead>\n",
       "    <tr style=\"text-align: right;\">\n",
       "      <th></th>\n",
       "      <th>open</th>\n",
       "      <th>high</th>\n",
       "      <th>low</th>\n",
       "      <th>close</th>\n",
       "      <th>volume</th>\n",
       "    </tr>\n",
       "    <tr>\n",
       "      <th>date</th>\n",
       "      <th></th>\n",
       "      <th></th>\n",
       "      <th></th>\n",
       "      <th></th>\n",
       "      <th></th>\n",
       "    </tr>\n",
       "  </thead>\n",
       "  <tbody>\n",
       "    <tr>\n",
       "      <th>2014-01-02</th>\n",
       "      <td>33.2632</td>\n",
       "      <td>33.3077</td>\n",
       "      <td>33.0406</td>\n",
       "      <td>33.0940</td>\n",
       "      <td>30643745</td>\n",
       "    </tr>\n",
       "    <tr>\n",
       "      <th>2014-01-03</th>\n",
       "      <td>33.1296</td>\n",
       "      <td>33.1474</td>\n",
       "      <td>32.5953</td>\n",
       "      <td>32.8713</td>\n",
       "      <td>31134795</td>\n",
       "    </tr>\n",
       "    <tr>\n",
       "      <th>2014-01-06</th>\n",
       "      <td>32.8179</td>\n",
       "      <td>32.8535</td>\n",
       "      <td>32.1589</td>\n",
       "      <td>32.1767</td>\n",
       "      <td>43615035</td>\n",
       "    </tr>\n",
       "    <tr>\n",
       "      <th>2014-01-07</th>\n",
       "      <td>32.3504</td>\n",
       "      <td>32.4973</td>\n",
       "      <td>32.2479</td>\n",
       "      <td>32.4261</td>\n",
       "      <td>35924726</td>\n",
       "    </tr>\n",
       "    <tr>\n",
       "      <th>2014-01-08</th>\n",
       "      <td>32.0609</td>\n",
       "      <td>32.1856</td>\n",
       "      <td>31.6869</td>\n",
       "      <td>31.8472</td>\n",
       "      <td>59979542</td>\n",
       "    </tr>\n",
       "  </tbody>\n",
       "</table>\n",
       "</div>"
      ],
      "text/plain": [
       "               open     high      low    close    volume\n",
       "date                                                    \n",
       "2014-01-02  33.2632  33.3077  33.0406  33.0940  30643745\n",
       "2014-01-03  33.1296  33.1474  32.5953  32.8713  31134795\n",
       "2014-01-06  32.8179  32.8535  32.1589  32.1767  43615035\n",
       "2014-01-07  32.3504  32.4973  32.2479  32.4261  35924726\n",
       "2014-01-08  32.0609  32.1856  31.6869  31.8472  59979542"
      ]
     },
     "execution_count": 113,
     "metadata": {},
     "output_type": "execute_result"
    }
   ],
   "source": [
    "stocks.set_index('date',inplace=True)\n",
    "stocks.head()"
   ]
  },
  {
   "cell_type": "code",
   "execution_count": 114,
   "metadata": {},
   "outputs": [
    {
     "data": {
      "text/plain": [
       "DatetimeIndex(['2014-01-02', '2014-01-03', '2014-01-06', '2014-01-07',\n",
       "               '2014-01-08', '2014-01-09', '2014-01-10', '2014-01-13',\n",
       "               '2014-01-14', '2014-01-15',\n",
       "               ...\n",
       "               '2017-12-15', '2017-12-18', '2017-12-19', '2017-12-20',\n",
       "               '2017-12-21', '2017-12-22', '2017-12-26', '2017-12-27',\n",
       "               '2017-12-28', '2017-12-29'],\n",
       "              dtype='datetime64[ns]', name='date', length=1007, freq=None)"
      ]
     },
     "execution_count": 114,
     "metadata": {},
     "output_type": "execute_result"
    }
   ],
   "source": [
    "stocks.index"
   ]
  },
  {
   "cell_type": "markdown",
   "metadata": {},
   "source": [
    "## Selecting Rows from a DataFrame with a DateTimeIndex"
   ]
  },
  {
   "cell_type": "code",
   "execution_count": 115,
   "metadata": {},
   "outputs": [
    {
     "data": {
      "text/html": [
       "<div>\n",
       "<style scoped>\n",
       "    .dataframe tbody tr th:only-of-type {\n",
       "        vertical-align: middle;\n",
       "    }\n",
       "\n",
       "    .dataframe tbody tr th {\n",
       "        vertical-align: top;\n",
       "    }\n",
       "\n",
       "    .dataframe thead th {\n",
       "        text-align: right;\n",
       "    }\n",
       "</style>\n",
       "<table border=\"1\" class=\"dataframe\">\n",
       "  <thead>\n",
       "    <tr style=\"text-align: right;\">\n",
       "      <th></th>\n",
       "      <th>open</th>\n",
       "      <th>high</th>\n",
       "      <th>low</th>\n",
       "      <th>close</th>\n",
       "      <th>volume</th>\n",
       "    </tr>\n",
       "    <tr>\n",
       "      <th>date</th>\n",
       "      <th></th>\n",
       "      <th></th>\n",
       "      <th></th>\n",
       "      <th></th>\n",
       "      <th></th>\n",
       "    </tr>\n",
       "  </thead>\n",
       "  <tbody>\n",
       "    <tr>\n",
       "      <th>2014-01-02</th>\n",
       "      <td>33.2632</td>\n",
       "      <td>33.3077</td>\n",
       "      <td>33.0406</td>\n",
       "      <td>33.0940</td>\n",
       "      <td>30643745</td>\n",
       "    </tr>\n",
       "    <tr>\n",
       "      <th>2014-01-03</th>\n",
       "      <td>33.1296</td>\n",
       "      <td>33.1474</td>\n",
       "      <td>32.5953</td>\n",
       "      <td>32.8713</td>\n",
       "      <td>31134795</td>\n",
       "    </tr>\n",
       "    <tr>\n",
       "      <th>2014-01-06</th>\n",
       "      <td>32.8179</td>\n",
       "      <td>32.8535</td>\n",
       "      <td>32.1589</td>\n",
       "      <td>32.1767</td>\n",
       "      <td>43615035</td>\n",
       "    </tr>\n",
       "    <tr>\n",
       "      <th>2014-01-07</th>\n",
       "      <td>32.3504</td>\n",
       "      <td>32.4973</td>\n",
       "      <td>32.2479</td>\n",
       "      <td>32.4261</td>\n",
       "      <td>35924726</td>\n",
       "    </tr>\n",
       "    <tr>\n",
       "      <th>2014-01-08</th>\n",
       "      <td>32.0609</td>\n",
       "      <td>32.1856</td>\n",
       "      <td>31.6869</td>\n",
       "      <td>31.8472</td>\n",
       "      <td>59979542</td>\n",
       "    </tr>\n",
       "  </tbody>\n",
       "</table>\n",
       "</div>"
      ],
      "text/plain": [
       "               open     high      low    close    volume\n",
       "date                                                    \n",
       "2014-01-02  33.2632  33.3077  33.0406  33.0940  30643745\n",
       "2014-01-03  33.1296  33.1474  32.5953  32.8713  31134795\n",
       "2014-01-06  32.8179  32.8535  32.1589  32.1767  43615035\n",
       "2014-01-07  32.3504  32.4973  32.2479  32.4261  35924726\n",
       "2014-01-08  32.0609  32.1856  31.6869  31.8472  59979542"
      ]
     },
     "execution_count": 115,
     "metadata": {},
     "output_type": "execute_result"
    }
   ],
   "source": [
    "stocks.head()"
   ]
  },
  {
   "cell_type": "code",
   "execution_count": 116,
   "metadata": {},
   "outputs": [
    {
     "data": {
      "text/plain": [
       "open      3.206090e+01\n",
       "high      3.218560e+01\n",
       "low       3.168690e+01\n",
       "close     3.184720e+01\n",
       "volume    5.997954e+07\n",
       "Name: 2014-01-08 00:00:00, dtype: float64"
      ]
     },
     "execution_count": 116,
     "metadata": {},
     "output_type": "execute_result"
    }
   ],
   "source": [
    "stocks.loc['2014-01-08']"
   ]
  },
  {
   "cell_type": "code",
   "execution_count": 117,
   "metadata": {},
   "outputs": [
    {
     "data": {
      "text/plain": [
       "open      3.312960e+01\n",
       "high      3.314740e+01\n",
       "low       3.259530e+01\n",
       "close     3.287130e+01\n",
       "volume    3.113480e+07\n",
       "Name: 2014-01-03 00:00:00, dtype: float64"
      ]
     },
     "execution_count": 117,
     "metadata": {},
     "output_type": "execute_result"
    }
   ],
   "source": [
    "stocks.iloc[1]"
   ]
  },
  {
   "cell_type": "code",
   "execution_count": 118,
   "metadata": {},
   "outputs": [
    {
     "data": {
      "text/html": [
       "<div>\n",
       "<style scoped>\n",
       "    .dataframe tbody tr th:only-of-type {\n",
       "        vertical-align: middle;\n",
       "    }\n",
       "\n",
       "    .dataframe tbody tr th {\n",
       "        vertical-align: top;\n",
       "    }\n",
       "\n",
       "    .dataframe thead th {\n",
       "        text-align: right;\n",
       "    }\n",
       "</style>\n",
       "<table border=\"1\" class=\"dataframe\">\n",
       "  <thead>\n",
       "    <tr style=\"text-align: right;\">\n",
       "      <th></th>\n",
       "      <th>open</th>\n",
       "      <th>high</th>\n",
       "      <th>low</th>\n",
       "      <th>close</th>\n",
       "      <th>volume</th>\n",
       "    </tr>\n",
       "    <tr>\n",
       "      <th>date</th>\n",
       "      <th></th>\n",
       "      <th></th>\n",
       "      <th></th>\n",
       "      <th></th>\n",
       "      <th></th>\n",
       "    </tr>\n",
       "  </thead>\n",
       "  <tbody>\n",
       "    <tr>\n",
       "      <th>2014-01-08</th>\n",
       "      <td>32.0609</td>\n",
       "      <td>32.1856</td>\n",
       "      <td>31.6869</td>\n",
       "      <td>31.8472</td>\n",
       "      <td>59979542</td>\n",
       "    </tr>\n",
       "    <tr>\n",
       "      <th>2014-01-09</th>\n",
       "      <td>31.9540</td>\n",
       "      <td>31.9808</td>\n",
       "      <td>31.5266</td>\n",
       "      <td>31.6423</td>\n",
       "      <td>36520448</td>\n",
       "    </tr>\n",
       "    <tr>\n",
       "      <th>2014-01-10</th>\n",
       "      <td>31.9719</td>\n",
       "      <td>32.1945</td>\n",
       "      <td>31.8383</td>\n",
       "      <td>32.0965</td>\n",
       "      <td>40558766</td>\n",
       "    </tr>\n",
       "    <tr>\n",
       "      <th>2014-01-13</th>\n",
       "      <td>32.0520</td>\n",
       "      <td>32.0787</td>\n",
       "      <td>31.0189</td>\n",
       "      <td>31.1525</td>\n",
       "      <td>45923872</td>\n",
       "    </tr>\n",
       "    <tr>\n",
       "      <th>2014-01-14</th>\n",
       "      <td>30.9299</td>\n",
       "      <td>31.9540</td>\n",
       "      <td>30.8408</td>\n",
       "      <td>31.8650</td>\n",
       "      <td>41627325</td>\n",
       "    </tr>\n",
       "    <tr>\n",
       "      <th>2014-01-15</th>\n",
       "      <td>31.9719</td>\n",
       "      <td>32.7645</td>\n",
       "      <td>31.9273</td>\n",
       "      <td>32.7378</td>\n",
       "      <td>44909545</td>\n",
       "    </tr>\n",
       "    <tr>\n",
       "      <th>2014-01-16</th>\n",
       "      <td>32.6754</td>\n",
       "      <td>32.9515</td>\n",
       "      <td>32.3370</td>\n",
       "      <td>32.8535</td>\n",
       "      <td>38035708</td>\n",
       "    </tr>\n",
       "    <tr>\n",
       "      <th>2014-01-17</th>\n",
       "      <td>32.8001</td>\n",
       "      <td>32.8001</td>\n",
       "      <td>32.1945</td>\n",
       "      <td>32.3993</td>\n",
       "      <td>46298736</td>\n",
       "    </tr>\n",
       "    <tr>\n",
       "      <th>2014-01-21</th>\n",
       "      <td>32.7912</td>\n",
       "      <td>32.7912</td>\n",
       "      <td>32.1144</td>\n",
       "      <td>32.2123</td>\n",
       "      <td>31578979</td>\n",
       "    </tr>\n",
       "    <tr>\n",
       "      <th>2014-01-22</th>\n",
       "      <td>32.2925</td>\n",
       "      <td>32.3459</td>\n",
       "      <td>31.8383</td>\n",
       "      <td>31.9986</td>\n",
       "      <td>21965266</td>\n",
       "    </tr>\n",
       "    <tr>\n",
       "      <th>2014-01-23</th>\n",
       "      <td>32.1411</td>\n",
       "      <td>32.1767</td>\n",
       "      <td>31.6334</td>\n",
       "      <td>32.1099</td>\n",
       "      <td>44515126</td>\n",
       "    </tr>\n",
       "    <tr>\n",
       "      <th>2014-01-24</th>\n",
       "      <td>33.3523</td>\n",
       "      <td>33.4413</td>\n",
       "      <td>32.5329</td>\n",
       "      <td>32.7778</td>\n",
       "      <td>77051806</td>\n",
       "    </tr>\n",
       "    <tr>\n",
       "      <th>2014-01-27</th>\n",
       "      <td>32.8357</td>\n",
       "      <td>32.8535</td>\n",
       "      <td>32.0431</td>\n",
       "      <td>32.0876</td>\n",
       "      <td>44485767</td>\n",
       "    </tr>\n",
       "    <tr>\n",
       "      <th>2014-01-28</th>\n",
       "      <td>32.1678</td>\n",
       "      <td>32.4082</td>\n",
       "      <td>31.8383</td>\n",
       "      <td>32.3014</td>\n",
       "      <td>36225755</td>\n",
       "    </tr>\n",
       "    <tr>\n",
       "      <th>2014-01-29</th>\n",
       "      <td>32.0431</td>\n",
       "      <td>32.8446</td>\n",
       "      <td>31.9719</td>\n",
       "      <td>32.6487</td>\n",
       "      <td>52790351</td>\n",
       "    </tr>\n",
       "    <tr>\n",
       "      <th>2014-01-30</th>\n",
       "      <td>32.7645</td>\n",
       "      <td>32.8446</td>\n",
       "      <td>32.2658</td>\n",
       "      <td>32.8268</td>\n",
       "      <td>35111959</td>\n",
       "    </tr>\n",
       "    <tr>\n",
       "      <th>2014-01-31</th>\n",
       "      <td>32.9070</td>\n",
       "      <td>33.7441</td>\n",
       "      <td>32.5596</td>\n",
       "      <td>33.6996</td>\n",
       "      <td>93190755</td>\n",
       "    </tr>\n",
       "  </tbody>\n",
       "</table>\n",
       "</div>"
      ],
      "text/plain": [
       "               open     high      low    close    volume\n",
       "date                                                    \n",
       "2014-01-08  32.0609  32.1856  31.6869  31.8472  59979542\n",
       "2014-01-09  31.9540  31.9808  31.5266  31.6423  36520448\n",
       "2014-01-10  31.9719  32.1945  31.8383  32.0965  40558766\n",
       "2014-01-13  32.0520  32.0787  31.0189  31.1525  45923872\n",
       "2014-01-14  30.9299  31.9540  30.8408  31.8650  41627325\n",
       "2014-01-15  31.9719  32.7645  31.9273  32.7378  44909545\n",
       "2014-01-16  32.6754  32.9515  32.3370  32.8535  38035708\n",
       "2014-01-17  32.8001  32.8001  32.1945  32.3993  46298736\n",
       "2014-01-21  32.7912  32.7912  32.1144  32.2123  31578979\n",
       "2014-01-22  32.2925  32.3459  31.8383  31.9986  21965266\n",
       "2014-01-23  32.1411  32.1767  31.6334  32.1099  44515126\n",
       "2014-01-24  33.3523  33.4413  32.5329  32.7778  77051806\n",
       "2014-01-27  32.8357  32.8535  32.0431  32.0876  44485767\n",
       "2014-01-28  32.1678  32.4082  31.8383  32.3014  36225755\n",
       "2014-01-29  32.0431  32.8446  31.9719  32.6487  52790351\n",
       "2014-01-30  32.7645  32.8446  32.2658  32.8268  35111959\n",
       "2014-01-31  32.9070  33.7441  32.5596  33.6996  93190755"
      ]
     },
     "execution_count": 118,
     "metadata": {},
     "output_type": "execute_result"
    }
   ],
   "source": [
    "stocks.loc['2014-01-08':'2014-01-31']"
   ]
  },
  {
   "cell_type": "code",
   "execution_count": 120,
   "metadata": {},
   "outputs": [],
   "source": [
    "birthdays = pd.date_range(start='1989-06-27',end='2018-06-27',freq=pd.DateOffset(years=1))"
   ]
  },
  {
   "cell_type": "code",
   "execution_count": 122,
   "metadata": {},
   "outputs": [
    {
     "data": {
      "text/html": [
       "<div>\n",
       "<style scoped>\n",
       "    .dataframe tbody tr th:only-of-type {\n",
       "        vertical-align: middle;\n",
       "    }\n",
       "\n",
       "    .dataframe tbody tr th {\n",
       "        vertical-align: top;\n",
       "    }\n",
       "\n",
       "    .dataframe thead th {\n",
       "        text-align: right;\n",
       "    }\n",
       "</style>\n",
       "<table border=\"1\" class=\"dataframe\">\n",
       "  <thead>\n",
       "    <tr style=\"text-align: right;\">\n",
       "      <th></th>\n",
       "      <th>open</th>\n",
       "      <th>high</th>\n",
       "      <th>low</th>\n",
       "      <th>close</th>\n",
       "      <th>volume</th>\n",
       "    </tr>\n",
       "    <tr>\n",
       "      <th>date</th>\n",
       "      <th></th>\n",
       "      <th></th>\n",
       "      <th></th>\n",
       "      <th></th>\n",
       "      <th></th>\n",
       "    </tr>\n",
       "  </thead>\n",
       "  <tbody>\n",
       "    <tr>\n",
       "      <th>2014-06-27</th>\n",
       "      <td>37.5983</td>\n",
       "      <td>38.2128</td>\n",
       "      <td>37.5080</td>\n",
       "      <td>38.1766</td>\n",
       "      <td>74641945</td>\n",
       "    </tr>\n",
       "    <tr>\n",
       "      <th>2016-06-27</th>\n",
       "      <td>46.8044</td>\n",
       "      <td>46.8488</td>\n",
       "      <td>45.7892</td>\n",
       "      <td>46.1657</td>\n",
       "      <td>50576699</td>\n",
       "    </tr>\n",
       "    <tr>\n",
       "      <th>2017-06-27</th>\n",
       "      <td>68.5038</td>\n",
       "      <td>68.5722</td>\n",
       "      <td>67.5951</td>\n",
       "      <td>67.6244</td>\n",
       "      <td>25215128</td>\n",
       "    </tr>\n",
       "  </tbody>\n",
       "</table>\n",
       "</div>"
      ],
      "text/plain": [
       "               open     high      low    close    volume\n",
       "date                                                    \n",
       "2014-06-27  37.5983  38.2128  37.5080  38.1766  74641945\n",
       "2016-06-27  46.8044  46.8488  45.7892  46.1657  50576699\n",
       "2017-06-27  68.5038  68.5722  67.5951  67.6244  25215128"
      ]
     },
     "execution_count": 122,
     "metadata": {},
     "output_type": "execute_result"
    }
   ],
   "source": [
    "mask = stocks.index.isin(birthdays)\n",
    "stocks[mask]"
   ]
  },
  {
   "cell_type": "markdown",
   "metadata": {},
   "source": [
    "## Timestamp Object Attributes"
   ]
  },
  {
   "cell_type": "code",
   "execution_count": 123,
   "metadata": {},
   "outputs": [
    {
     "data": {
      "text/html": [
       "<div>\n",
       "<style scoped>\n",
       "    .dataframe tbody tr th:only-of-type {\n",
       "        vertical-align: middle;\n",
       "    }\n",
       "\n",
       "    .dataframe tbody tr th {\n",
       "        vertical-align: top;\n",
       "    }\n",
       "\n",
       "    .dataframe thead th {\n",
       "        text-align: right;\n",
       "    }\n",
       "</style>\n",
       "<table border=\"1\" class=\"dataframe\">\n",
       "  <thead>\n",
       "    <tr style=\"text-align: right;\">\n",
       "      <th></th>\n",
       "      <th>open</th>\n",
       "      <th>high</th>\n",
       "      <th>low</th>\n",
       "      <th>close</th>\n",
       "      <th>volume</th>\n",
       "    </tr>\n",
       "    <tr>\n",
       "      <th>date</th>\n",
       "      <th></th>\n",
       "      <th></th>\n",
       "      <th></th>\n",
       "      <th></th>\n",
       "      <th></th>\n",
       "    </tr>\n",
       "  </thead>\n",
       "  <tbody>\n",
       "    <tr>\n",
       "      <th>2014-01-02</th>\n",
       "      <td>33.2632</td>\n",
       "      <td>33.3077</td>\n",
       "      <td>33.0406</td>\n",
       "      <td>33.0940</td>\n",
       "      <td>30643745</td>\n",
       "    </tr>\n",
       "    <tr>\n",
       "      <th>2014-01-03</th>\n",
       "      <td>33.1296</td>\n",
       "      <td>33.1474</td>\n",
       "      <td>32.5953</td>\n",
       "      <td>32.8713</td>\n",
       "      <td>31134795</td>\n",
       "    </tr>\n",
       "    <tr>\n",
       "      <th>2014-01-06</th>\n",
       "      <td>32.8179</td>\n",
       "      <td>32.8535</td>\n",
       "      <td>32.1589</td>\n",
       "      <td>32.1767</td>\n",
       "      <td>43615035</td>\n",
       "    </tr>\n",
       "    <tr>\n",
       "      <th>2014-01-07</th>\n",
       "      <td>32.3504</td>\n",
       "      <td>32.4973</td>\n",
       "      <td>32.2479</td>\n",
       "      <td>32.4261</td>\n",
       "      <td>35924726</td>\n",
       "    </tr>\n",
       "    <tr>\n",
       "      <th>2014-01-08</th>\n",
       "      <td>32.0609</td>\n",
       "      <td>32.1856</td>\n",
       "      <td>31.6869</td>\n",
       "      <td>31.8472</td>\n",
       "      <td>59979542</td>\n",
       "    </tr>\n",
       "  </tbody>\n",
       "</table>\n",
       "</div>"
      ],
      "text/plain": [
       "               open     high      low    close    volume\n",
       "date                                                    \n",
       "2014-01-02  33.2632  33.3077  33.0406  33.0940  30643745\n",
       "2014-01-03  33.1296  33.1474  32.5953  32.8713  31134795\n",
       "2014-01-06  32.8179  32.8535  32.1589  32.1767  43615035\n",
       "2014-01-07  32.3504  32.4973  32.2479  32.4261  35924726\n",
       "2014-01-08  32.0609  32.1856  31.6869  31.8472  59979542"
      ]
     },
     "execution_count": 123,
     "metadata": {},
     "output_type": "execute_result"
    }
   ],
   "source": [
    "stocks.head()"
   ]
  },
  {
   "cell_type": "code",
   "execution_count": 124,
   "metadata": {},
   "outputs": [
    {
     "data": {
      "text/plain": [
       "Timestamp('2014-05-28 00:00:00')"
      ]
     },
     "execution_count": 124,
     "metadata": {},
     "output_type": "execute_result"
    }
   ],
   "source": [
    "someday = stocks.index[100]\n",
    "someday"
   ]
  },
  {
   "cell_type": "code",
   "execution_count": 125,
   "metadata": {},
   "outputs": [
    {
     "data": {
      "text/plain": [
       "28"
      ]
     },
     "execution_count": 125,
     "metadata": {},
     "output_type": "execute_result"
    }
   ],
   "source": [
    "someday.day"
   ]
  },
  {
   "cell_type": "code",
   "execution_count": 126,
   "metadata": {},
   "outputs": [
    {
     "data": {
      "text/plain": [
       "2014"
      ]
     },
     "execution_count": 126,
     "metadata": {},
     "output_type": "execute_result"
    }
   ],
   "source": [
    "someday.year"
   ]
  },
  {
   "cell_type": "code",
   "execution_count": 127,
   "metadata": {},
   "outputs": [
    {
     "data": {
      "text/plain": [
       "'Wednesday'"
      ]
     },
     "execution_count": 127,
     "metadata": {},
     "output_type": "execute_result"
    }
   ],
   "source": [
    "someday.weekday_name"
   ]
  },
  {
   "cell_type": "code",
   "execution_count": 128,
   "metadata": {},
   "outputs": [
    {
     "data": {
      "text/plain": [
       "False"
      ]
     },
     "execution_count": 128,
     "metadata": {},
     "output_type": "execute_result"
    }
   ],
   "source": [
    "someday.is_month_start"
   ]
  },
  {
   "cell_type": "code",
   "execution_count": 129,
   "metadata": {},
   "outputs": [
    {
     "data": {
      "text/html": [
       "<div>\n",
       "<style scoped>\n",
       "    .dataframe tbody tr th:only-of-type {\n",
       "        vertical-align: middle;\n",
       "    }\n",
       "\n",
       "    .dataframe tbody tr th {\n",
       "        vertical-align: top;\n",
       "    }\n",
       "\n",
       "    .dataframe thead th {\n",
       "        text-align: right;\n",
       "    }\n",
       "</style>\n",
       "<table border=\"1\" class=\"dataframe\">\n",
       "  <thead>\n",
       "    <tr style=\"text-align: right;\">\n",
       "      <th></th>\n",
       "      <th>day of week</th>\n",
       "      <th>open</th>\n",
       "      <th>high</th>\n",
       "      <th>low</th>\n",
       "      <th>close</th>\n",
       "      <th>volume</th>\n",
       "    </tr>\n",
       "    <tr>\n",
       "      <th>date</th>\n",
       "      <th></th>\n",
       "      <th></th>\n",
       "      <th></th>\n",
       "      <th></th>\n",
       "      <th></th>\n",
       "      <th></th>\n",
       "    </tr>\n",
       "  </thead>\n",
       "  <tbody>\n",
       "    <tr>\n",
       "      <th>2014-01-02</th>\n",
       "      <td>Thursday</td>\n",
       "      <td>33.2632</td>\n",
       "      <td>33.3077</td>\n",
       "      <td>33.0406</td>\n",
       "      <td>33.0940</td>\n",
       "      <td>30643745</td>\n",
       "    </tr>\n",
       "    <tr>\n",
       "      <th>2014-01-03</th>\n",
       "      <td>Friday</td>\n",
       "      <td>33.1296</td>\n",
       "      <td>33.1474</td>\n",
       "      <td>32.5953</td>\n",
       "      <td>32.8713</td>\n",
       "      <td>31134795</td>\n",
       "    </tr>\n",
       "    <tr>\n",
       "      <th>2014-01-06</th>\n",
       "      <td>Monday</td>\n",
       "      <td>32.8179</td>\n",
       "      <td>32.8535</td>\n",
       "      <td>32.1589</td>\n",
       "      <td>32.1767</td>\n",
       "      <td>43615035</td>\n",
       "    </tr>\n",
       "    <tr>\n",
       "      <th>2014-01-07</th>\n",
       "      <td>Tuesday</td>\n",
       "      <td>32.3504</td>\n",
       "      <td>32.4973</td>\n",
       "      <td>32.2479</td>\n",
       "      <td>32.4261</td>\n",
       "      <td>35924726</td>\n",
       "    </tr>\n",
       "    <tr>\n",
       "      <th>2014-01-08</th>\n",
       "      <td>Wednesday</td>\n",
       "      <td>32.0609</td>\n",
       "      <td>32.1856</td>\n",
       "      <td>31.6869</td>\n",
       "      <td>31.8472</td>\n",
       "      <td>59979542</td>\n",
       "    </tr>\n",
       "  </tbody>\n",
       "</table>\n",
       "</div>"
      ],
      "text/plain": [
       "           day of week     open     high      low    close    volume\n",
       "date                                                                \n",
       "2014-01-02    Thursday  33.2632  33.3077  33.0406  33.0940  30643745\n",
       "2014-01-03      Friday  33.1296  33.1474  32.5953  32.8713  31134795\n",
       "2014-01-06      Monday  32.8179  32.8535  32.1589  32.1767  43615035\n",
       "2014-01-07     Tuesday  32.3504  32.4973  32.2479  32.4261  35924726\n",
       "2014-01-08   Wednesday  32.0609  32.1856  31.6869  31.8472  59979542"
      ]
     },
     "execution_count": 129,
     "metadata": {},
     "output_type": "execute_result"
    }
   ],
   "source": [
    "stocks.insert(0,'day of week',stocks.index.weekday_name)\n",
    "stocks.head()"
   ]
  },
  {
   "cell_type": "code",
   "execution_count": 130,
   "metadata": {},
   "outputs": [
    {
     "data": {
      "text/html": [
       "<div>\n",
       "<style scoped>\n",
       "    .dataframe tbody tr th:only-of-type {\n",
       "        vertical-align: middle;\n",
       "    }\n",
       "\n",
       "    .dataframe tbody tr th {\n",
       "        vertical-align: top;\n",
       "    }\n",
       "\n",
       "    .dataframe thead th {\n",
       "        text-align: right;\n",
       "    }\n",
       "</style>\n",
       "<table border=\"1\" class=\"dataframe\">\n",
       "  <thead>\n",
       "    <tr style=\"text-align: right;\">\n",
       "      <th></th>\n",
       "      <th>day of week</th>\n",
       "      <th>start of month</th>\n",
       "      <th>open</th>\n",
       "      <th>high</th>\n",
       "      <th>low</th>\n",
       "      <th>close</th>\n",
       "      <th>volume</th>\n",
       "    </tr>\n",
       "    <tr>\n",
       "      <th>date</th>\n",
       "      <th></th>\n",
       "      <th></th>\n",
       "      <th></th>\n",
       "      <th></th>\n",
       "      <th></th>\n",
       "      <th></th>\n",
       "      <th></th>\n",
       "    </tr>\n",
       "  </thead>\n",
       "  <tbody>\n",
       "    <tr>\n",
       "      <th>2014-01-02</th>\n",
       "      <td>Thursday</td>\n",
       "      <td>False</td>\n",
       "      <td>33.2632</td>\n",
       "      <td>33.3077</td>\n",
       "      <td>33.0406</td>\n",
       "      <td>33.0940</td>\n",
       "      <td>30643745</td>\n",
       "    </tr>\n",
       "    <tr>\n",
       "      <th>2014-01-03</th>\n",
       "      <td>Friday</td>\n",
       "      <td>False</td>\n",
       "      <td>33.1296</td>\n",
       "      <td>33.1474</td>\n",
       "      <td>32.5953</td>\n",
       "      <td>32.8713</td>\n",
       "      <td>31134795</td>\n",
       "    </tr>\n",
       "    <tr>\n",
       "      <th>2014-01-06</th>\n",
       "      <td>Monday</td>\n",
       "      <td>False</td>\n",
       "      <td>32.8179</td>\n",
       "      <td>32.8535</td>\n",
       "      <td>32.1589</td>\n",
       "      <td>32.1767</td>\n",
       "      <td>43615035</td>\n",
       "    </tr>\n",
       "    <tr>\n",
       "      <th>2014-01-07</th>\n",
       "      <td>Tuesday</td>\n",
       "      <td>False</td>\n",
       "      <td>32.3504</td>\n",
       "      <td>32.4973</td>\n",
       "      <td>32.2479</td>\n",
       "      <td>32.4261</td>\n",
       "      <td>35924726</td>\n",
       "    </tr>\n",
       "    <tr>\n",
       "      <th>2014-01-08</th>\n",
       "      <td>Wednesday</td>\n",
       "      <td>False</td>\n",
       "      <td>32.0609</td>\n",
       "      <td>32.1856</td>\n",
       "      <td>31.6869</td>\n",
       "      <td>31.8472</td>\n",
       "      <td>59979542</td>\n",
       "    </tr>\n",
       "  </tbody>\n",
       "</table>\n",
       "</div>"
      ],
      "text/plain": [
       "           day of week  start of month     open     high      low    close  \\\n",
       "date                                                                         \n",
       "2014-01-02    Thursday           False  33.2632  33.3077  33.0406  33.0940   \n",
       "2014-01-03      Friday           False  33.1296  33.1474  32.5953  32.8713   \n",
       "2014-01-06      Monday           False  32.8179  32.8535  32.1589  32.1767   \n",
       "2014-01-07     Tuesday           False  32.3504  32.4973  32.2479  32.4261   \n",
       "2014-01-08   Wednesday           False  32.0609  32.1856  31.6869  31.8472   \n",
       "\n",
       "              volume  \n",
       "date                  \n",
       "2014-01-02  30643745  \n",
       "2014-01-03  31134795  \n",
       "2014-01-06  43615035  \n",
       "2014-01-07  35924726  \n",
       "2014-01-08  59979542  "
      ]
     },
     "execution_count": 130,
     "metadata": {},
     "output_type": "execute_result"
    }
   ],
   "source": [
    "stocks.insert(1,'start of month',stocks.index.is_month_start)\n",
    "stocks.head()"
   ]
  },
  {
   "cell_type": "markdown",
   "metadata": {},
   "source": [
    "## The .truncate() Method"
   ]
  },
  {
   "cell_type": "code",
   "execution_count": 131,
   "metadata": {},
   "outputs": [
    {
     "data": {
      "text/html": [
       "<div>\n",
       "<style scoped>\n",
       "    .dataframe tbody tr th:only-of-type {\n",
       "        vertical-align: middle;\n",
       "    }\n",
       "\n",
       "    .dataframe tbody tr th {\n",
       "        vertical-align: top;\n",
       "    }\n",
       "\n",
       "    .dataframe thead th {\n",
       "        text-align: right;\n",
       "    }\n",
       "</style>\n",
       "<table border=\"1\" class=\"dataframe\">\n",
       "  <thead>\n",
       "    <tr style=\"text-align: right;\">\n",
       "      <th></th>\n",
       "      <th>day of week</th>\n",
       "      <th>start of month</th>\n",
       "      <th>open</th>\n",
       "      <th>high</th>\n",
       "      <th>low</th>\n",
       "      <th>close</th>\n",
       "      <th>volume</th>\n",
       "    </tr>\n",
       "    <tr>\n",
       "      <th>date</th>\n",
       "      <th></th>\n",
       "      <th></th>\n",
       "      <th></th>\n",
       "      <th></th>\n",
       "      <th></th>\n",
       "      <th></th>\n",
       "      <th></th>\n",
       "    </tr>\n",
       "  </thead>\n",
       "  <tbody>\n",
       "    <tr>\n",
       "      <th>2014-01-02</th>\n",
       "      <td>Thursday</td>\n",
       "      <td>False</td>\n",
       "      <td>33.2632</td>\n",
       "      <td>33.3077</td>\n",
       "      <td>33.0406</td>\n",
       "      <td>33.0940</td>\n",
       "      <td>30643745</td>\n",
       "    </tr>\n",
       "    <tr>\n",
       "      <th>2014-01-03</th>\n",
       "      <td>Friday</td>\n",
       "      <td>False</td>\n",
       "      <td>33.1296</td>\n",
       "      <td>33.1474</td>\n",
       "      <td>32.5953</td>\n",
       "      <td>32.8713</td>\n",
       "      <td>31134795</td>\n",
       "    </tr>\n",
       "    <tr>\n",
       "      <th>2014-01-06</th>\n",
       "      <td>Monday</td>\n",
       "      <td>False</td>\n",
       "      <td>32.8179</td>\n",
       "      <td>32.8535</td>\n",
       "      <td>32.1589</td>\n",
       "      <td>32.1767</td>\n",
       "      <td>43615035</td>\n",
       "    </tr>\n",
       "    <tr>\n",
       "      <th>2014-01-07</th>\n",
       "      <td>Tuesday</td>\n",
       "      <td>False</td>\n",
       "      <td>32.3504</td>\n",
       "      <td>32.4973</td>\n",
       "      <td>32.2479</td>\n",
       "      <td>32.4261</td>\n",
       "      <td>35924726</td>\n",
       "    </tr>\n",
       "    <tr>\n",
       "      <th>2014-01-08</th>\n",
       "      <td>Wednesday</td>\n",
       "      <td>False</td>\n",
       "      <td>32.0609</td>\n",
       "      <td>32.1856</td>\n",
       "      <td>31.6869</td>\n",
       "      <td>31.8472</td>\n",
       "      <td>59979542</td>\n",
       "    </tr>\n",
       "  </tbody>\n",
       "</table>\n",
       "</div>"
      ],
      "text/plain": [
       "           day of week  start of month     open     high      low    close  \\\n",
       "date                                                                         \n",
       "2014-01-02    Thursday           False  33.2632  33.3077  33.0406  33.0940   \n",
       "2014-01-03      Friday           False  33.1296  33.1474  32.5953  32.8713   \n",
       "2014-01-06      Monday           False  32.8179  32.8535  32.1589  32.1767   \n",
       "2014-01-07     Tuesday           False  32.3504  32.4973  32.2479  32.4261   \n",
       "2014-01-08   Wednesday           False  32.0609  32.1856  31.6869  31.8472   \n",
       "\n",
       "              volume  \n",
       "date                  \n",
       "2014-01-02  30643745  \n",
       "2014-01-03  31134795  \n",
       "2014-01-06  43615035  \n",
       "2014-01-07  35924726  \n",
       "2014-01-08  59979542  "
      ]
     },
     "execution_count": 131,
     "metadata": {},
     "output_type": "execute_result"
    }
   ],
   "source": [
    "stocks.head()"
   ]
  },
  {
   "cell_type": "code",
   "execution_count": 133,
   "metadata": {},
   "outputs": [
    {
     "data": {
      "text/html": [
       "<div>\n",
       "<style scoped>\n",
       "    .dataframe tbody tr th:only-of-type {\n",
       "        vertical-align: middle;\n",
       "    }\n",
       "\n",
       "    .dataframe tbody tr th {\n",
       "        vertical-align: top;\n",
       "    }\n",
       "\n",
       "    .dataframe thead th {\n",
       "        text-align: right;\n",
       "    }\n",
       "</style>\n",
       "<table border=\"1\" class=\"dataframe\">\n",
       "  <thead>\n",
       "    <tr style=\"text-align: right;\">\n",
       "      <th></th>\n",
       "      <th>open</th>\n",
       "      <th>high</th>\n",
       "      <th>low</th>\n",
       "      <th>close</th>\n",
       "      <th>volume</th>\n",
       "    </tr>\n",
       "    <tr>\n",
       "      <th>date</th>\n",
       "      <th></th>\n",
       "      <th></th>\n",
       "      <th></th>\n",
       "      <th></th>\n",
       "      <th></th>\n",
       "    </tr>\n",
       "  </thead>\n",
       "  <tbody>\n",
       "    <tr>\n",
       "      <th>2014-01-02</th>\n",
       "      <td>33.2632</td>\n",
       "      <td>33.3077</td>\n",
       "      <td>33.0406</td>\n",
       "      <td>33.0940</td>\n",
       "      <td>30643745</td>\n",
       "    </tr>\n",
       "    <tr>\n",
       "      <th>2014-01-03</th>\n",
       "      <td>33.1296</td>\n",
       "      <td>33.1474</td>\n",
       "      <td>32.5953</td>\n",
       "      <td>32.8713</td>\n",
       "      <td>31134795</td>\n",
       "    </tr>\n",
       "    <tr>\n",
       "      <th>2014-01-06</th>\n",
       "      <td>32.8179</td>\n",
       "      <td>32.8535</td>\n",
       "      <td>32.1589</td>\n",
       "      <td>32.1767</td>\n",
       "      <td>43615035</td>\n",
       "    </tr>\n",
       "    <tr>\n",
       "      <th>2014-01-07</th>\n",
       "      <td>32.3504</td>\n",
       "      <td>32.4973</td>\n",
       "      <td>32.2479</td>\n",
       "      <td>32.4261</td>\n",
       "      <td>35924726</td>\n",
       "    </tr>\n",
       "    <tr>\n",
       "      <th>2014-01-08</th>\n",
       "      <td>32.0609</td>\n",
       "      <td>32.1856</td>\n",
       "      <td>31.6869</td>\n",
       "      <td>31.8472</td>\n",
       "      <td>59979542</td>\n",
       "    </tr>\n",
       "  </tbody>\n",
       "</table>\n",
       "</div>"
      ],
      "text/plain": [
       "               open     high      low    close    volume\n",
       "date                                                    \n",
       "2014-01-02  33.2632  33.3077  33.0406  33.0940  30643745\n",
       "2014-01-03  33.1296  33.1474  32.5953  32.8713  31134795\n",
       "2014-01-06  32.8179  32.8535  32.1589  32.1767  43615035\n",
       "2014-01-07  32.3504  32.4973  32.2479  32.4261  35924726\n",
       "2014-01-08  32.0609  32.1856  31.6869  31.8472  59979542"
      ]
     },
     "execution_count": 133,
     "metadata": {},
     "output_type": "execute_result"
    }
   ],
   "source": [
    "stocks.drop(['day of week','start of month'],axis=1,inplace=True)\n",
    "stocks.head()"
   ]
  },
  {
   "cell_type": "code",
   "execution_count": 134,
   "metadata": {},
   "outputs": [
    {
     "data": {
      "text/html": [
       "<div>\n",
       "<style scoped>\n",
       "    .dataframe tbody tr th:only-of-type {\n",
       "        vertical-align: middle;\n",
       "    }\n",
       "\n",
       "    .dataframe tbody tr th {\n",
       "        vertical-align: top;\n",
       "    }\n",
       "\n",
       "    .dataframe thead th {\n",
       "        text-align: right;\n",
       "    }\n",
       "</style>\n",
       "<table border=\"1\" class=\"dataframe\">\n",
       "  <thead>\n",
       "    <tr style=\"text-align: right;\">\n",
       "      <th></th>\n",
       "      <th>open</th>\n",
       "      <th>high</th>\n",
       "      <th>low</th>\n",
       "      <th>close</th>\n",
       "      <th>volume</th>\n",
       "    </tr>\n",
       "    <tr>\n",
       "      <th>date</th>\n",
       "      <th></th>\n",
       "      <th></th>\n",
       "      <th></th>\n",
       "      <th></th>\n",
       "      <th></th>\n",
       "    </tr>\n",
       "  </thead>\n",
       "  <tbody>\n",
       "    <tr>\n",
       "      <th>2015-01-02</th>\n",
       "      <td>42.6924</td>\n",
       "      <td>43.3878</td>\n",
       "      <td>42.5826</td>\n",
       "      <td>42.7839</td>\n",
       "      <td>27913852</td>\n",
       "    </tr>\n",
       "    <tr>\n",
       "      <th>2015-01-05</th>\n",
       "      <td>42.4271</td>\n",
       "      <td>42.7564</td>\n",
       "      <td>42.3173</td>\n",
       "      <td>42.3859</td>\n",
       "      <td>39673865</td>\n",
       "    </tr>\n",
       "    <tr>\n",
       "      <th>2015-01-06</th>\n",
       "      <td>42.4362</td>\n",
       "      <td>42.7738</td>\n",
       "      <td>41.6676</td>\n",
       "      <td>41.7683</td>\n",
       "      <td>36447854</td>\n",
       "    </tr>\n",
       "    <tr>\n",
       "      <th>2015-01-07</th>\n",
       "      <td>42.0702</td>\n",
       "      <td>42.5094</td>\n",
       "      <td>41.6219</td>\n",
       "      <td>42.2990</td>\n",
       "      <td>29114061</td>\n",
       "    </tr>\n",
       "    <tr>\n",
       "      <th>2015-01-08</th>\n",
       "      <td>42.7747</td>\n",
       "      <td>43.6896</td>\n",
       "      <td>42.7473</td>\n",
       "      <td>43.5433</td>\n",
       "      <td>29645202</td>\n",
       "    </tr>\n",
       "    <tr>\n",
       "      <th>2015-01-09</th>\n",
       "      <td>43.5616</td>\n",
       "      <td>43.7538</td>\n",
       "      <td>42.9120</td>\n",
       "      <td>43.1773</td>\n",
       "      <td>23944181</td>\n",
       "    </tr>\n",
       "    <tr>\n",
       "      <th>2015-01-12</th>\n",
       "      <td>43.3878</td>\n",
       "      <td>43.4976</td>\n",
       "      <td>42.4179</td>\n",
       "      <td>42.6375</td>\n",
       "      <td>23651887</td>\n",
       "    </tr>\n",
       "    <tr>\n",
       "      <th>2015-01-13</th>\n",
       "      <td>42.9760</td>\n",
       "      <td>43.8361</td>\n",
       "      <td>42.1434</td>\n",
       "      <td>42.4133</td>\n",
       "      <td>35270601</td>\n",
       "    </tr>\n",
       "    <tr>\n",
       "      <th>2015-01-14</th>\n",
       "      <td>42.0519</td>\n",
       "      <td>42.3081</td>\n",
       "      <td>41.7408</td>\n",
       "      <td>42.0473</td>\n",
       "      <td>29719580</td>\n",
       "    </tr>\n",
       "    <tr>\n",
       "      <th>2015-01-15</th>\n",
       "      <td>42.2898</td>\n",
       "      <td>42.4362</td>\n",
       "      <td>41.5487</td>\n",
       "      <td>41.6127</td>\n",
       "      <td>32750779</td>\n",
       "    </tr>\n",
       "    <tr>\n",
       "      <th>2015-01-16</th>\n",
       "      <td>41.4572</td>\n",
       "      <td>42.3447</td>\n",
       "      <td>41.3291</td>\n",
       "      <td>42.3081</td>\n",
       "      <td>35695289</td>\n",
       "    </tr>\n",
       "    <tr>\n",
       "      <th>2015-01-20</th>\n",
       "      <td>42.3630</td>\n",
       "      <td>42.6832</td>\n",
       "      <td>41.6951</td>\n",
       "      <td>42.4453</td>\n",
       "      <td>36161860</td>\n",
       "    </tr>\n",
       "    <tr>\n",
       "      <th>2015-01-21</th>\n",
       "      <td>42.0336</td>\n",
       "      <td>42.2166</td>\n",
       "      <td>41.6127</td>\n",
       "      <td>42.0153</td>\n",
       "      <td>39081143</td>\n",
       "    </tr>\n",
       "    <tr>\n",
       "      <th>2015-01-22</th>\n",
       "      <td>42.4362</td>\n",
       "      <td>43.1270</td>\n",
       "      <td>42.1617</td>\n",
       "      <td>43.1224</td>\n",
       "      <td>35898035</td>\n",
       "    </tr>\n",
       "    <tr>\n",
       "      <th>2015-01-23</th>\n",
       "      <td>43.3329</td>\n",
       "      <td>43.3603</td>\n",
       "      <td>42.8205</td>\n",
       "      <td>43.1682</td>\n",
       "      <td>26211594</td>\n",
       "    </tr>\n",
       "    <tr>\n",
       "      <th>2015-01-26</th>\n",
       "      <td>43.0035</td>\n",
       "      <td>43.1260</td>\n",
       "      <td>42.3080</td>\n",
       "      <td>43.0126</td>\n",
       "      <td>42525530</td>\n",
       "    </tr>\n",
       "    <tr>\n",
       "      <th>2015-01-27</th>\n",
       "      <td>39.2979</td>\n",
       "      <td>39.5266</td>\n",
       "      <td>38.5247</td>\n",
       "      <td>39.0325</td>\n",
       "      <td>169163953</td>\n",
       "    </tr>\n",
       "    <tr>\n",
       "      <th>2015-01-28</th>\n",
       "      <td>39.1057</td>\n",
       "      <td>39.1515</td>\n",
       "      <td>37.6601</td>\n",
       "      <td>37.6875</td>\n",
       "      <td>84507078</td>\n",
       "    </tr>\n",
       "    <tr>\n",
       "      <th>2015-01-29</th>\n",
       "      <td>37.4496</td>\n",
       "      <td>38.5384</td>\n",
       "      <td>37.3215</td>\n",
       "      <td>38.4378</td>\n",
       "      <td>63585273</td>\n",
       "    </tr>\n",
       "    <tr>\n",
       "      <th>2015-01-30</th>\n",
       "      <td>38.0169</td>\n",
       "      <td>38.0444</td>\n",
       "      <td>36.9189</td>\n",
       "      <td>36.9647</td>\n",
       "      <td>78004944</td>\n",
       "    </tr>\n",
       "  </tbody>\n",
       "</table>\n",
       "</div>"
      ],
      "text/plain": [
       "               open     high      low    close     volume\n",
       "date                                                     \n",
       "2015-01-02  42.6924  43.3878  42.5826  42.7839   27913852\n",
       "2015-01-05  42.4271  42.7564  42.3173  42.3859   39673865\n",
       "2015-01-06  42.4362  42.7738  41.6676  41.7683   36447854\n",
       "2015-01-07  42.0702  42.5094  41.6219  42.2990   29114061\n",
       "2015-01-08  42.7747  43.6896  42.7473  43.5433   29645202\n",
       "2015-01-09  43.5616  43.7538  42.9120  43.1773   23944181\n",
       "2015-01-12  43.3878  43.4976  42.4179  42.6375   23651887\n",
       "2015-01-13  42.9760  43.8361  42.1434  42.4133   35270601\n",
       "2015-01-14  42.0519  42.3081  41.7408  42.0473   29719580\n",
       "2015-01-15  42.2898  42.4362  41.5487  41.6127   32750779\n",
       "2015-01-16  41.4572  42.3447  41.3291  42.3081   35695289\n",
       "2015-01-20  42.3630  42.6832  41.6951  42.4453   36161860\n",
       "2015-01-21  42.0336  42.2166  41.6127  42.0153   39081143\n",
       "2015-01-22  42.4362  43.1270  42.1617  43.1224   35898035\n",
       "2015-01-23  43.3329  43.3603  42.8205  43.1682   26211594\n",
       "2015-01-26  43.0035  43.1260  42.3080  43.0126   42525530\n",
       "2015-01-27  39.2979  39.5266  38.5247  39.0325  169163953\n",
       "2015-01-28  39.1057  39.1515  37.6601  37.6875   84507078\n",
       "2015-01-29  37.4496  38.5384  37.3215  38.4378   63585273\n",
       "2015-01-30  38.0169  38.0444  36.9189  36.9647   78004944"
      ]
     },
     "execution_count": 134,
     "metadata": {},
     "output_type": "execute_result"
    }
   ],
   "source": [
    "stocks.truncate(before='2015-01-01',after='2015-02-01')"
   ]
  },
  {
   "cell_type": "markdown",
   "metadata": {},
   "source": [
    "## pd.DateOffset Objects"
   ]
  },
  {
   "cell_type": "code",
   "execution_count": 148,
   "metadata": {},
   "outputs": [
    {
     "data": {
      "text/html": [
       "<div>\n",
       "<style scoped>\n",
       "    .dataframe tbody tr th:only-of-type {\n",
       "        vertical-align: middle;\n",
       "    }\n",
       "\n",
       "    .dataframe tbody tr th {\n",
       "        vertical-align: top;\n",
       "    }\n",
       "\n",
       "    .dataframe thead th {\n",
       "        text-align: right;\n",
       "    }\n",
       "</style>\n",
       "<table border=\"1\" class=\"dataframe\">\n",
       "  <thead>\n",
       "    <tr style=\"text-align: right;\">\n",
       "      <th></th>\n",
       "      <th>open</th>\n",
       "      <th>high</th>\n",
       "      <th>low</th>\n",
       "      <th>close</th>\n",
       "      <th>volume</th>\n",
       "    </tr>\n",
       "    <tr>\n",
       "      <th>date</th>\n",
       "      <th></th>\n",
       "      <th></th>\n",
       "      <th></th>\n",
       "      <th></th>\n",
       "      <th></th>\n",
       "    </tr>\n",
       "  </thead>\n",
       "  <tbody>\n",
       "    <tr>\n",
       "      <th>2017-01-03</th>\n",
       "      <td>778.81</td>\n",
       "      <td>789.6300</td>\n",
       "      <td>775.8000</td>\n",
       "      <td>786.14</td>\n",
       "      <td>1657268</td>\n",
       "    </tr>\n",
       "    <tr>\n",
       "      <th>2017-01-04</th>\n",
       "      <td>788.36</td>\n",
       "      <td>791.3400</td>\n",
       "      <td>783.1600</td>\n",
       "      <td>786.90</td>\n",
       "      <td>1072958</td>\n",
       "    </tr>\n",
       "    <tr>\n",
       "      <th>2017-01-05</th>\n",
       "      <td>786.08</td>\n",
       "      <td>794.4800</td>\n",
       "      <td>785.0200</td>\n",
       "      <td>794.02</td>\n",
       "      <td>1335167</td>\n",
       "    </tr>\n",
       "    <tr>\n",
       "      <th>2017-01-06</th>\n",
       "      <td>795.26</td>\n",
       "      <td>807.9000</td>\n",
       "      <td>792.2041</td>\n",
       "      <td>806.15</td>\n",
       "      <td>1640170</td>\n",
       "    </tr>\n",
       "    <tr>\n",
       "      <th>2017-01-09</th>\n",
       "      <td>806.40</td>\n",
       "      <td>809.9664</td>\n",
       "      <td>802.8300</td>\n",
       "      <td>806.65</td>\n",
       "      <td>1274645</td>\n",
       "    </tr>\n",
       "  </tbody>\n",
       "</table>\n",
       "</div>"
      ],
      "text/plain": [
       "              open      high       low   close   volume\n",
       "date                                                   \n",
       "2017-01-03  778.81  789.6300  775.8000  786.14  1657268\n",
       "2017-01-04  788.36  791.3400  783.1600  786.90  1072958\n",
       "2017-01-05  786.08  794.4800  785.0200  794.02  1335167\n",
       "2017-01-06  795.26  807.9000  792.2041  806.15  1640170\n",
       "2017-01-09  806.40  809.9664  802.8300  806.65  1274645"
      ]
     },
     "execution_count": 148,
     "metadata": {},
     "output_type": "execute_result"
    }
   ],
   "source": [
    "company = 'GOOG'\n",
    "start = dt.date(2017,1,1)\n",
    "end = dt.datetime.now()\n",
    "\n",
    "stocks = data.DataReader(name=company,data_source='iex',start=start,end=end)\n",
    "stocks.head()"
   ]
  },
  {
   "cell_type": "code",
   "execution_count": 149,
   "metadata": {},
   "outputs": [
    {
     "data": {
      "text/plain": [
       "pandas.core.indexes.base.Index"
      ]
     },
     "execution_count": 149,
     "metadata": {},
     "output_type": "execute_result"
    }
   ],
   "source": [
    "type(stocks.index)"
   ]
  },
  {
   "cell_type": "code",
   "execution_count": 150,
   "metadata": {},
   "outputs": [],
   "source": [
    "stocks.reset_index(inplace=True)"
   ]
  },
  {
   "cell_type": "code",
   "execution_count": 153,
   "metadata": {},
   "outputs": [],
   "source": [
    "stocks['date'] = pd.to_datetime(stocks['date'])"
   ]
  },
  {
   "cell_type": "code",
   "execution_count": 154,
   "metadata": {},
   "outputs": [
    {
     "data": {
      "text/html": [
       "<div>\n",
       "<style scoped>\n",
       "    .dataframe tbody tr th:only-of-type {\n",
       "        vertical-align: middle;\n",
       "    }\n",
       "\n",
       "    .dataframe tbody tr th {\n",
       "        vertical-align: top;\n",
       "    }\n",
       "\n",
       "    .dataframe thead th {\n",
       "        text-align: right;\n",
       "    }\n",
       "</style>\n",
       "<table border=\"1\" class=\"dataframe\">\n",
       "  <thead>\n",
       "    <tr style=\"text-align: right;\">\n",
       "      <th></th>\n",
       "      <th>open</th>\n",
       "      <th>high</th>\n",
       "      <th>low</th>\n",
       "      <th>close</th>\n",
       "      <th>volume</th>\n",
       "    </tr>\n",
       "    <tr>\n",
       "      <th>date</th>\n",
       "      <th></th>\n",
       "      <th></th>\n",
       "      <th></th>\n",
       "      <th></th>\n",
       "      <th></th>\n",
       "    </tr>\n",
       "  </thead>\n",
       "  <tbody>\n",
       "    <tr>\n",
       "      <th>2017-01-03</th>\n",
       "      <td>778.81</td>\n",
       "      <td>789.6300</td>\n",
       "      <td>775.8000</td>\n",
       "      <td>786.14</td>\n",
       "      <td>1657268</td>\n",
       "    </tr>\n",
       "    <tr>\n",
       "      <th>2017-01-04</th>\n",
       "      <td>788.36</td>\n",
       "      <td>791.3400</td>\n",
       "      <td>783.1600</td>\n",
       "      <td>786.90</td>\n",
       "      <td>1072958</td>\n",
       "    </tr>\n",
       "    <tr>\n",
       "      <th>2017-01-05</th>\n",
       "      <td>786.08</td>\n",
       "      <td>794.4800</td>\n",
       "      <td>785.0200</td>\n",
       "      <td>794.02</td>\n",
       "      <td>1335167</td>\n",
       "    </tr>\n",
       "    <tr>\n",
       "      <th>2017-01-06</th>\n",
       "      <td>795.26</td>\n",
       "      <td>807.9000</td>\n",
       "      <td>792.2041</td>\n",
       "      <td>806.15</td>\n",
       "      <td>1640170</td>\n",
       "    </tr>\n",
       "    <tr>\n",
       "      <th>2017-01-09</th>\n",
       "      <td>806.40</td>\n",
       "      <td>809.9664</td>\n",
       "      <td>802.8300</td>\n",
       "      <td>806.65</td>\n",
       "      <td>1274645</td>\n",
       "    </tr>\n",
       "  </tbody>\n",
       "</table>\n",
       "</div>"
      ],
      "text/plain": [
       "              open      high       low   close   volume\n",
       "date                                                   \n",
       "2017-01-03  778.81  789.6300  775.8000  786.14  1657268\n",
       "2017-01-04  788.36  791.3400  783.1600  786.90  1072958\n",
       "2017-01-05  786.08  794.4800  785.0200  794.02  1335167\n",
       "2017-01-06  795.26  807.9000  792.2041  806.15  1640170\n",
       "2017-01-09  806.40  809.9664  802.8300  806.65  1274645"
      ]
     },
     "execution_count": 154,
     "metadata": {},
     "output_type": "execute_result"
    }
   ],
   "source": [
    "stocks.set_index('date',inplace=True)\n",
    "stocks.head()"
   ]
  },
  {
   "cell_type": "code",
   "execution_count": 155,
   "metadata": {},
   "outputs": [
    {
     "data": {
      "text/plain": [
       "DatetimeIndex(['2017-01-03', '2017-01-04', '2017-01-05', '2017-01-06',\n",
       "               '2017-01-09', '2017-01-10', '2017-01-11', '2017-01-12',\n",
       "               '2017-01-13', '2017-01-17',\n",
       "               ...\n",
       "               '2018-09-24', '2018-09-25', '2018-09-26', '2018-09-27',\n",
       "               '2018-09-28', '2018-10-01', '2018-10-02', '2018-10-03',\n",
       "               '2018-10-04', '2018-10-05'],\n",
       "              dtype='datetime64[ns]', name='date', length=444, freq=None)"
      ]
     },
     "execution_count": 155,
     "metadata": {},
     "output_type": "execute_result"
    }
   ],
   "source": [
    "stocks.index"
   ]
  },
  {
   "cell_type": "code",
   "execution_count": 156,
   "metadata": {},
   "outputs": [
    {
     "data": {
      "text/plain": [
       "DatetimeIndex(['2017-01-08', '2017-01-09', '2017-01-10', '2017-01-11',\n",
       "               '2017-01-14', '2017-01-15', '2017-01-16', '2017-01-17',\n",
       "               '2017-01-18', '2017-01-22',\n",
       "               ...\n",
       "               '2018-09-29', '2018-09-30', '2018-10-01', '2018-10-02',\n",
       "               '2018-10-03', '2018-10-06', '2018-10-07', '2018-10-08',\n",
       "               '2018-10-09', '2018-10-10'],\n",
       "              dtype='datetime64[ns]', name='date', length=444, freq=None)"
      ]
     },
     "execution_count": 156,
     "metadata": {},
     "output_type": "execute_result"
    }
   ],
   "source": [
    "# add 5 days to every date\n",
    "stocks.index + pd.DateOffset(days=5)"
   ]
  },
  {
   "cell_type": "code",
   "execution_count": 157,
   "metadata": {},
   "outputs": [
    {
     "data": {
      "text/plain": [
       "DatetimeIndex(['2017-01-17', '2017-01-18', '2017-01-19', '2017-01-20',\n",
       "               '2017-01-23', '2017-01-24', '2017-01-25', '2017-01-26',\n",
       "               '2017-01-27', '2017-01-31',\n",
       "               ...\n",
       "               '2018-10-08', '2018-10-09', '2018-10-10', '2018-10-11',\n",
       "               '2018-10-12', '2018-10-15', '2018-10-16', '2018-10-17',\n",
       "               '2018-10-18', '2018-10-19'],\n",
       "              dtype='datetime64[ns]', name='date', length=444, freq=None)"
      ]
     },
     "execution_count": 157,
     "metadata": {},
     "output_type": "execute_result"
    }
   ],
   "source": [
    "# add 2 weeks to each date\n",
    "stocks.index + pd.DateOffset(weeks=2)"
   ]
  },
  {
   "cell_type": "code",
   "execution_count": 158,
   "metadata": {},
   "outputs": [
    {
     "data": {
      "text/plain": [
       "DatetimeIndex(['2016-12-29', '2016-12-30', '2016-12-31', '2017-01-01',\n",
       "               '2017-01-04', '2017-01-05', '2017-01-06', '2017-01-07',\n",
       "               '2017-01-08', '2017-01-12',\n",
       "               ...\n",
       "               '2018-09-19', '2018-09-20', '2018-09-21', '2018-09-22',\n",
       "               '2018-09-23', '2018-09-26', '2018-09-27', '2018-09-28',\n",
       "               '2018-09-29', '2018-09-30'],\n",
       "              dtype='datetime64[ns]', name='date', length=444, freq=None)"
      ]
     },
     "execution_count": 158,
     "metadata": {},
     "output_type": "execute_result"
    }
   ],
   "source": [
    "# subtract 5 days\n",
    "stocks.index - pd.DateOffset(days=5)"
   ]
  },
  {
   "cell_type": "code",
   "execution_count": 159,
   "metadata": {},
   "outputs": [
    {
     "data": {
      "text/plain": [
       "DatetimeIndex(['2018-01-03', '2018-01-04', '2018-01-05', '2018-01-06',\n",
       "               '2018-01-09', '2018-01-10', '2018-01-11', '2018-01-12',\n",
       "               '2018-01-13', '2018-01-17',\n",
       "               ...\n",
       "               '2019-09-24', '2019-09-25', '2019-09-26', '2019-09-27',\n",
       "               '2019-09-28', '2019-10-01', '2019-10-02', '2019-10-03',\n",
       "               '2019-10-04', '2019-10-05'],\n",
       "              dtype='datetime64[ns]', name='date', length=444, freq=None)"
      ]
     },
     "execution_count": 159,
     "metadata": {},
     "output_type": "execute_result"
    }
   ],
   "source": [
    "stocks.index + pd.DateOffset(years=1)"
   ]
  },
  {
   "cell_type": "code",
   "execution_count": 160,
   "metadata": {},
   "outputs": [
    {
     "data": {
      "text/plain": [
       "DatetimeIndex(['2017-01-03 06:00:00', '2017-01-04 06:00:00',\n",
       "               '2017-01-05 06:00:00', '2017-01-06 06:00:00',\n",
       "               '2017-01-09 06:00:00', '2017-01-10 06:00:00',\n",
       "               '2017-01-11 06:00:00', '2017-01-12 06:00:00',\n",
       "               '2017-01-13 06:00:00', '2017-01-17 06:00:00',\n",
       "               ...\n",
       "               '2018-09-24 06:00:00', '2018-09-25 06:00:00',\n",
       "               '2018-09-26 06:00:00', '2018-09-27 06:00:00',\n",
       "               '2018-09-28 06:00:00', '2018-10-01 06:00:00',\n",
       "               '2018-10-02 06:00:00', '2018-10-03 06:00:00',\n",
       "               '2018-10-04 06:00:00', '2018-10-05 06:00:00'],\n",
       "              dtype='datetime64[ns]', name='date', length=444, freq=None)"
      ]
     },
     "execution_count": 160,
     "metadata": {},
     "output_type": "execute_result"
    }
   ],
   "source": [
    "stocks.index + pd.DateOffset(hours=6)"
   ]
  },
  {
   "cell_type": "code",
   "execution_count": 161,
   "metadata": {},
   "outputs": [
    {
     "data": {
      "text/plain": [
       "DatetimeIndex(['2017-01-08 06:00:00', '2017-01-09 06:00:00',\n",
       "               '2017-01-10 06:00:00', '2017-01-11 06:00:00',\n",
       "               '2017-01-14 06:00:00', '2017-01-15 06:00:00',\n",
       "               '2017-01-16 06:00:00', '2017-01-17 06:00:00',\n",
       "               '2017-01-18 06:00:00', '2017-01-22 06:00:00',\n",
       "               ...\n",
       "               '2018-09-29 06:00:00', '2018-09-30 06:00:00',\n",
       "               '2018-10-01 06:00:00', '2018-10-02 06:00:00',\n",
       "               '2018-10-03 06:00:00', '2018-10-06 06:00:00',\n",
       "               '2018-10-07 06:00:00', '2018-10-08 06:00:00',\n",
       "               '2018-10-09 06:00:00', '2018-10-10 06:00:00'],\n",
       "              dtype='datetime64[ns]', name='date', length=444, freq=None)"
      ]
     },
     "execution_count": 161,
     "metadata": {},
     "output_type": "execute_result"
    }
   ],
   "source": [
    "stocks.index + pd.DateOffset(days=5,hours=6)"
   ]
  },
  {
   "cell_type": "code",
   "execution_count": 162,
   "metadata": {},
   "outputs": [
    {
     "data": {
      "text/plain": [
       "DatetimeIndex(['2017-01-02 05:00:00', '2017-01-03 05:00:00',\n",
       "               '2017-01-04 05:00:00', '2017-01-05 05:00:00',\n",
       "               '2017-01-08 05:00:00', '2017-01-09 05:00:00',\n",
       "               '2017-01-10 05:00:00', '2017-01-11 05:00:00',\n",
       "               '2017-01-12 05:00:00', '2017-01-16 05:00:00',\n",
       "               ...\n",
       "               '2018-09-23 05:00:00', '2018-09-24 05:00:00',\n",
       "               '2018-09-25 05:00:00', '2018-09-26 05:00:00',\n",
       "               '2018-09-27 05:00:00', '2018-09-30 05:00:00',\n",
       "               '2018-10-01 05:00:00', '2018-10-02 05:00:00',\n",
       "               '2018-10-03 05:00:00', '2018-10-04 05:00:00'],\n",
       "              dtype='datetime64[ns]', name='date', length=444, freq=None)"
      ]
     },
     "execution_count": 162,
     "metadata": {},
     "output_type": "execute_result"
    }
   ],
   "source": [
    "# add 5 hours, subtract a single day\n",
    "stocks.index + pd.DateOffset(hours=5) - pd.DateOffset(days=1)"
   ]
  },
  {
   "cell_type": "code",
   "execution_count": 163,
   "metadata": {},
   "outputs": [
    {
     "data": {
      "text/html": [
       "<div>\n",
       "<style scoped>\n",
       "    .dataframe tbody tr th:only-of-type {\n",
       "        vertical-align: middle;\n",
       "    }\n",
       "\n",
       "    .dataframe tbody tr th {\n",
       "        vertical-align: top;\n",
       "    }\n",
       "\n",
       "    .dataframe thead th {\n",
       "        text-align: right;\n",
       "    }\n",
       "</style>\n",
       "<table border=\"1\" class=\"dataframe\">\n",
       "  <thead>\n",
       "    <tr style=\"text-align: right;\">\n",
       "      <th></th>\n",
       "      <th>open</th>\n",
       "      <th>high</th>\n",
       "      <th>low</th>\n",
       "      <th>close</th>\n",
       "      <th>volume</th>\n",
       "    </tr>\n",
       "    <tr>\n",
       "      <th>date</th>\n",
       "      <th></th>\n",
       "      <th></th>\n",
       "      <th></th>\n",
       "      <th></th>\n",
       "      <th></th>\n",
       "    </tr>\n",
       "  </thead>\n",
       "  <tbody>\n",
       "    <tr>\n",
       "      <th>2017-01-03</th>\n",
       "      <td>778.81</td>\n",
       "      <td>789.6300</td>\n",
       "      <td>775.8000</td>\n",
       "      <td>786.14</td>\n",
       "      <td>1657268</td>\n",
       "    </tr>\n",
       "    <tr>\n",
       "      <th>2017-01-04</th>\n",
       "      <td>788.36</td>\n",
       "      <td>791.3400</td>\n",
       "      <td>783.1600</td>\n",
       "      <td>786.90</td>\n",
       "      <td>1072958</td>\n",
       "    </tr>\n",
       "    <tr>\n",
       "      <th>2017-01-05</th>\n",
       "      <td>786.08</td>\n",
       "      <td>794.4800</td>\n",
       "      <td>785.0200</td>\n",
       "      <td>794.02</td>\n",
       "      <td>1335167</td>\n",
       "    </tr>\n",
       "    <tr>\n",
       "      <th>2017-01-06</th>\n",
       "      <td>795.26</td>\n",
       "      <td>807.9000</td>\n",
       "      <td>792.2041</td>\n",
       "      <td>806.15</td>\n",
       "      <td>1640170</td>\n",
       "    </tr>\n",
       "    <tr>\n",
       "      <th>2017-01-09</th>\n",
       "      <td>806.40</td>\n",
       "      <td>809.9664</td>\n",
       "      <td>802.8300</td>\n",
       "      <td>806.65</td>\n",
       "      <td>1274645</td>\n",
       "    </tr>\n",
       "  </tbody>\n",
       "</table>\n",
       "</div>"
      ],
      "text/plain": [
       "              open      high       low   close   volume\n",
       "date                                                   \n",
       "2017-01-03  778.81  789.6300  775.8000  786.14  1657268\n",
       "2017-01-04  788.36  791.3400  783.1600  786.90  1072958\n",
       "2017-01-05  786.08  794.4800  785.0200  794.02  1335167\n",
       "2017-01-06  795.26  807.9000  792.2041  806.15  1640170\n",
       "2017-01-09  806.40  809.9664  802.8300  806.65  1274645"
      ]
     },
     "execution_count": 163,
     "metadata": {},
     "output_type": "execute_result"
    }
   ],
   "source": [
    "stocks.head()"
   ]
  },
  {
   "cell_type": "code",
   "execution_count": 165,
   "metadata": {},
   "outputs": [
    {
     "data": {
      "text/plain": [
       "DatetimeIndex(['2017-01-31', '2017-01-31', '2017-01-31', '2017-01-31',\n",
       "               '2017-01-31', '2017-01-31', '2017-01-31', '2017-01-31',\n",
       "               '2017-01-31', '2017-01-31',\n",
       "               ...\n",
       "               '2018-09-30', '2018-09-30', '2018-09-30', '2018-09-30',\n",
       "               '2018-09-30', '2018-10-31', '2018-10-31', '2018-10-31',\n",
       "               '2018-10-31', '2018-10-31'],\n",
       "              dtype='datetime64[ns]', name='date', length=444, freq=None)"
      ]
     },
     "execution_count": 165,
     "metadata": {},
     "output_type": "execute_result"
    }
   ],
   "source": [
    "# find the next month end\n",
    "stocks.index + pd.tseries.offsets.MonthEnd()"
   ]
  },
  {
   "cell_type": "code",
   "execution_count": 166,
   "metadata": {},
   "outputs": [],
   "source": [
    "from pandas.tseries.offsets import *"
   ]
  },
  {
   "cell_type": "code",
   "execution_count": 167,
   "metadata": {},
   "outputs": [
    {
     "data": {
      "text/plain": [
       "DatetimeIndex(['2017-01-01', '2017-01-01', '2017-01-01', '2017-01-01',\n",
       "               '2017-01-01', '2017-01-01', '2017-01-01', '2017-01-01',\n",
       "               '2017-01-01', '2017-01-01',\n",
       "               ...\n",
       "               '2018-09-01', '2018-09-01', '2018-09-01', '2018-09-01',\n",
       "               '2018-09-01', '2018-09-01', '2018-10-01', '2018-10-01',\n",
       "               '2018-10-01', '2018-10-01'],\n",
       "              dtype='datetime64[ns]', name='date', length=444, freq=None)"
      ]
     },
     "execution_count": 167,
     "metadata": {},
     "output_type": "execute_result"
    }
   ],
   "source": [
    "# find the nearest month beginning\n",
    "stocks.index - MonthBegin()"
   ]
  },
  {
   "cell_type": "code",
   "execution_count": 168,
   "metadata": {},
   "outputs": [
    {
     "name": "stderr",
     "output_type": "stream",
     "text": [
      "/usr/local/lib/python3.6/site-packages/pandas/core/indexes/datetimes.py:840: PerformanceWarning: Non-vectorized DateOffset being applied to Series or DatetimeIndex\n",
      "  \"or DatetimeIndex\", PerformanceWarning)\n"
     ]
    },
    {
     "data": {
      "text/plain": [
       "DatetimeIndex(['2017-01-31', '2017-01-31', '2017-01-31', '2017-01-31',\n",
       "               '2017-01-31', '2017-01-31', '2017-01-31', '2017-01-31',\n",
       "               '2017-01-31', '2017-01-31',\n",
       "               ...\n",
       "               '2018-09-28', '2018-09-28', '2018-09-28', '2018-09-28',\n",
       "               '2018-10-31', '2018-10-31', '2018-10-31', '2018-10-31',\n",
       "               '2018-10-31', '2018-10-31'],\n",
       "              dtype='datetime64[ns]', name='date', length=444, freq=None)"
      ]
     },
     "execution_count": 168,
     "metadata": {},
     "output_type": "execute_result"
    }
   ],
   "source": [
    "# find the next business month end\n",
    "stocks.index + BMonthEnd()"
   ]
  },
  {
   "cell_type": "code",
   "execution_count": 169,
   "metadata": {},
   "outputs": [
    {
     "data": {
      "text/plain": [
       "DatetimeIndex(['2017-03-31', '2017-03-31', '2017-03-31', '2017-03-31',\n",
       "               '2017-03-31', '2017-03-31', '2017-03-31', '2017-03-31',\n",
       "               '2017-03-31', '2017-03-31',\n",
       "               ...\n",
       "               '2018-09-30', '2018-09-30', '2018-09-30', '2018-09-30',\n",
       "               '2018-09-30', '2018-12-31', '2018-12-31', '2018-12-31',\n",
       "               '2018-12-31', '2018-12-31'],\n",
       "              dtype='datetime64[ns]', name='date', length=444, freq=None)"
      ]
     },
     "execution_count": 169,
     "metadata": {},
     "output_type": "execute_result"
    }
   ],
   "source": [
    "stocks.index + QuarterEnd()"
   ]
  },
  {
   "cell_type": "markdown",
   "metadata": {},
   "source": [
    "## The Timedelta Object"
   ]
  },
  {
   "cell_type": "code",
   "execution_count": 173,
   "metadata": {},
   "outputs": [],
   "source": [
    "time_a = pd.Timestamp('2016-03-31 04:35:16 PM')\n",
    "time_b = pd.Timestamp('2016-03-20 02:16:53 AM')"
   ]
  },
  {
   "cell_type": "code",
   "execution_count": 174,
   "metadata": {},
   "outputs": [
    {
     "data": {
      "text/plain": [
       "Timedelta('11 days 14:18:23')"
      ]
     },
     "execution_count": 174,
     "metadata": {},
     "output_type": "execute_result"
    }
   ],
   "source": [
    "time_a - time_b"
   ]
  },
  {
   "cell_type": "code",
   "execution_count": 175,
   "metadata": {},
   "outputs": [
    {
     "data": {
      "text/plain": [
       "Timedelta('-12 days +09:41:37')"
      ]
     },
     "execution_count": 175,
     "metadata": {},
     "output_type": "execute_result"
    }
   ],
   "source": [
    "time_b - time_a"
   ]
  },
  {
   "cell_type": "code",
   "execution_count": 176,
   "metadata": {},
   "outputs": [
    {
     "data": {
      "text/plain": [
       "Timedelta('59 days 12:45:00')"
      ]
     },
     "execution_count": 176,
     "metadata": {},
     "output_type": "execute_result"
    }
   ],
   "source": [
    "pd.Timedelta(days=3,minutes=45,hours=12,weeks=8)"
   ]
  },
  {
   "cell_type": "code",
   "execution_count": 177,
   "metadata": {},
   "outputs": [
    {
     "data": {
      "text/plain": [
       "Timedelta('0 days 00:05:00')"
      ]
     },
     "execution_count": 177,
     "metadata": {},
     "output_type": "execute_result"
    }
   ],
   "source": [
    "pd.Timedelta('5 minutes')"
   ]
  },
  {
   "cell_type": "code",
   "execution_count": 178,
   "metadata": {},
   "outputs": [
    {
     "data": {
      "text/plain": [
       "Timedelta('14 days 06:05:00')"
      ]
     },
     "execution_count": 178,
     "metadata": {},
     "output_type": "execute_result"
    }
   ],
   "source": [
    "pd.Timedelta('14 days 6 hours 5 minutes')"
   ]
  },
  {
   "cell_type": "markdown",
   "metadata": {},
   "source": [
    "## Timedeltas in a Dataset"
   ]
  },
  {
   "cell_type": "code",
   "execution_count": 180,
   "metadata": {},
   "outputs": [
    {
     "data": {
      "text/html": [
       "<div>\n",
       "<style scoped>\n",
       "    .dataframe tbody tr th:only-of-type {\n",
       "        vertical-align: middle;\n",
       "    }\n",
       "\n",
       "    .dataframe tbody tr th {\n",
       "        vertical-align: top;\n",
       "    }\n",
       "\n",
       "    .dataframe thead th {\n",
       "        text-align: right;\n",
       "    }\n",
       "</style>\n",
       "<table border=\"1\" class=\"dataframe\">\n",
       "  <thead>\n",
       "    <tr style=\"text-align: right;\">\n",
       "      <th></th>\n",
       "      <th>order_date</th>\n",
       "      <th>delivery_date</th>\n",
       "    </tr>\n",
       "    <tr>\n",
       "      <th>ID</th>\n",
       "      <th></th>\n",
       "      <th></th>\n",
       "    </tr>\n",
       "  </thead>\n",
       "  <tbody>\n",
       "    <tr>\n",
       "      <th>1</th>\n",
       "      <td>1998-05-24</td>\n",
       "      <td>1999-02-05</td>\n",
       "    </tr>\n",
       "    <tr>\n",
       "      <th>2</th>\n",
       "      <td>1992-04-22</td>\n",
       "      <td>1998-03-06</td>\n",
       "    </tr>\n",
       "    <tr>\n",
       "      <th>4</th>\n",
       "      <td>1991-02-10</td>\n",
       "      <td>1992-08-26</td>\n",
       "    </tr>\n",
       "    <tr>\n",
       "      <th>5</th>\n",
       "      <td>1992-07-21</td>\n",
       "      <td>1997-11-20</td>\n",
       "    </tr>\n",
       "    <tr>\n",
       "      <th>7</th>\n",
       "      <td>1993-09-02</td>\n",
       "      <td>1998-06-10</td>\n",
       "    </tr>\n",
       "  </tbody>\n",
       "</table>\n",
       "</div>"
      ],
      "text/plain": [
       "   order_date delivery_date\n",
       "ID                         \n",
       "1  1998-05-24    1999-02-05\n",
       "2  1992-04-22    1998-03-06\n",
       "4  1991-02-10    1992-08-26\n",
       "5  1992-07-21    1997-11-20\n",
       "7  1993-09-02    1998-06-10"
      ]
     },
     "execution_count": 180,
     "metadata": {},
     "output_type": "execute_result"
    }
   ],
   "source": [
    "df = pd.read_csv('data/pandas/ecommerce.csv',index_col='ID',parse_dates=['order_date','delivery_date'])\n",
    "df.head()"
   ]
  },
  {
   "cell_type": "code",
   "execution_count": 183,
   "metadata": {},
   "outputs": [
    {
     "data": {
      "text/html": [
       "<div>\n",
       "<style scoped>\n",
       "    .dataframe tbody tr th:only-of-type {\n",
       "        vertical-align: middle;\n",
       "    }\n",
       "\n",
       "    .dataframe tbody tr th {\n",
       "        vertical-align: top;\n",
       "    }\n",
       "\n",
       "    .dataframe thead th {\n",
       "        text-align: right;\n",
       "    }\n",
       "</style>\n",
       "<table border=\"1\" class=\"dataframe\">\n",
       "  <thead>\n",
       "    <tr style=\"text-align: right;\">\n",
       "      <th></th>\n",
       "      <th>order_date</th>\n",
       "      <th>delivery_date</th>\n",
       "      <th>delivery_time</th>\n",
       "    </tr>\n",
       "    <tr>\n",
       "      <th>ID</th>\n",
       "      <th></th>\n",
       "      <th></th>\n",
       "      <th></th>\n",
       "    </tr>\n",
       "  </thead>\n",
       "  <tbody>\n",
       "    <tr>\n",
       "      <th>1</th>\n",
       "      <td>1998-05-24</td>\n",
       "      <td>1999-02-05</td>\n",
       "      <td>257 days</td>\n",
       "    </tr>\n",
       "    <tr>\n",
       "      <th>2</th>\n",
       "      <td>1992-04-22</td>\n",
       "      <td>1998-03-06</td>\n",
       "      <td>2144 days</td>\n",
       "    </tr>\n",
       "    <tr>\n",
       "      <th>4</th>\n",
       "      <td>1991-02-10</td>\n",
       "      <td>1992-08-26</td>\n",
       "      <td>563 days</td>\n",
       "    </tr>\n",
       "    <tr>\n",
       "      <th>5</th>\n",
       "      <td>1992-07-21</td>\n",
       "      <td>1997-11-20</td>\n",
       "      <td>1948 days</td>\n",
       "    </tr>\n",
       "    <tr>\n",
       "      <th>7</th>\n",
       "      <td>1993-09-02</td>\n",
       "      <td>1998-06-10</td>\n",
       "      <td>1742 days</td>\n",
       "    </tr>\n",
       "  </tbody>\n",
       "</table>\n",
       "</div>"
      ],
      "text/plain": [
       "   order_date delivery_date delivery_time\n",
       "ID                                       \n",
       "1  1998-05-24    1999-02-05      257 days\n",
       "2  1992-04-22    1998-03-06     2144 days\n",
       "4  1991-02-10    1992-08-26      563 days\n",
       "5  1992-07-21    1997-11-20     1948 days\n",
       "7  1993-09-02    1998-06-10     1742 days"
      ]
     },
     "execution_count": 183,
     "metadata": {},
     "output_type": "execute_result"
    }
   ],
   "source": [
    "df['delivery_time'] = df['delivery_date'] - df['order_date']\n",
    "df.head()"
   ]
  },
  {
   "cell_type": "code",
   "execution_count": 186,
   "metadata": {},
   "outputs": [
    {
     "data": {
      "text/plain": [
       "394"
      ]
     },
     "execution_count": 186,
     "metadata": {},
     "output_type": "execute_result"
    }
   ],
   "source": [
    "mask = df['delivery_time'] > \"365 days\"\n",
    "len(df[mask])"
   ]
  }
 ],
 "metadata": {
  "kernelspec": {
   "display_name": "Python 3",
   "language": "python",
   "name": "python3"
  },
  "language_info": {
   "codemirror_mode": {
    "name": "ipython",
    "version": 3
   },
   "file_extension": ".py",
   "mimetype": "text/x-python",
   "name": "python",
   "nbconvert_exporter": "python",
   "pygments_lexer": "ipython3",
   "version": "3.6.5"
  }
 },
 "nbformat": 4,
 "nbformat_minor": 2
}
